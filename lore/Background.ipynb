{
 "cells": [
  {
   "cell_type": "markdown",
   "metadata": {},
   "source": [
    "# Introduction\n",
    "\n",
    "This notebook is a placeholder where all of the in-game lore will go.\n",
    "\n",
    "This first cell will be an overview of the game world, including the different races. I will include humans and warforged from Eberron, although I will probably change their name to foregelings, forgespaw, or something related to hide the connection. I may also include a third race, but have not decided for sure"
   ]
  },
  {
   "cell_type": "markdown",
   "metadata": {},
   "source": [
    "# History\n",
    "\n",
    "This will be a brief summary of the in-game history.\n",
    "\n",
    "I will introduce House Cannith, who created the forespawn in the context of a historical war. This is modeled after the Great War in Eberron, but will introduce the presence of fantasy-based programming/AI in the game world. The forgespawn are sentient creates that fought in the war and then became free afterwards. Their overriding purpose fulfilled, the forespawn experienced a period of great turmoil as a people, when they struggled to find their place in the world. During this tumult, the knowledge of how to create intelligent forgespawn was destroyed in a series of attacks on House Cannith, although non-sentient constructs are still routinely produced."
   ]
  },
  {
   "cell_type": "markdown",
   "metadata": {},
   "source": [
    "# Sharn and its Houses\n",
    "\n",
    "I will introduce the city of Sharn from Eberron, possibly changing the name to obscure it. I will also introduce the major houses of Sharn (although there are more in Eberron, I will keep only as many we need to match up with the number of student teams).\n",
    "Final: we use the houses\n",
    "\n",
    "House Cannith\n",
    "House Deneith\n",
    "House Ghallanda\n",
    "House Jorasco\n",
    "House Kundarak\n",
    "House Medani\n",
    "House Orien\n",
    "House Sivis\n",
    "House Vadalis\n",
    "House Tarkana\n",
    "\n",
    "Todo: put in descriptions and list the characters in each house (probably need four for each, but permute the names so they don't show up on google).\n",
    "\n",
    "Probably add characters from two other factions, say forgespawn and scions of Galifar. Maybe one more race (changelings? kalashtar?)\n"
   ]
  },
  {
   "cell_type": "markdown",
   "metadata": {},
   "source": [
    "# Khyber\n",
    "\n",
    "Introduce the underdark, which is called Khyber in Eberron. Maybe change the name.\n",
    "\n",
    "Steal this flavor text:\n",
    "\n",
    "It is a realm without hope, without sanity, without\n",
    "light—but not without life. Endless darkness, crushing\n",
    "rock, winding corridors, and sunless seas fill the vast-\n",
    "ness beneath the surface. This realm is\n",
    "Khyber, the Dragon Below, an Underdark world that\n",
    "lurk likes a ravenous maw beneath the feet of surface\n",
    "dwellers.\n",
    "\n",
    "Khyber is a realm of nightmare. Demons that\n",
    "stalked the world a thousand generations ago lie\n",
    "imprisoned within its depths, and beings of madness\n",
    "slither through its twisted passageways. Foulspawn\n",
    "and other aberrant creatures lurk in Khyber, orches-\n",
    "trating plans to unleash destruction and madness.\n",
    "\n",
    "Describe the main antagonists, a race of monstrous reptilian/insectoid creatures somewhere between tyranids, zerg, and buggers from Ender's game.\n"
   ]
  },
  {
   "cell_type": "markdown",
   "metadata": {},
   "source": [
    "# The Next War\n",
    "\n",
    "Describe modern events in Sharn (and Khorvaire generally, if we keep the same name). The antagonists mentioned in the previous cell are attacking en masse and humanity has little hope. The leaders of Sharn's great houses -- artificers, alchemists, scholars, and more -- need to combine their skills to stop the onslaught or face extinction."
   ]
  },
  {
   "cell_type": "code",
   "execution_count": null,
   "metadata": {
    "collapsed": true
   },
   "outputs": [],
   "source": []
  }
 ],
 "metadata": {
  "kernelspec": {
   "display_name": "Python 2",
   "language": "python",
   "name": "python2"
  },
  "language_info": {
   "codemirror_mode": {
    "name": "ipython",
    "version": 2
   },
   "file_extension": ".py",
   "mimetype": "text/x-python",
   "name": "python",
   "nbconvert_exporter": "python",
   "pygments_lexer": "ipython2",
   "version": "2.7.11"
  }
 },
 "nbformat": 4,
 "nbformat_minor": 0
}
