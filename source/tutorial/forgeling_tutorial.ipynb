{
 "cells": [
  {
   "cell_type": "markdown",
   "metadata": {},
   "source": [
    "<img src=\"../../images/forgeling.jpg\" align=\"right\" height = '150' width = '244'></img>\n",
    "\n",
    "## Built for a war that has ended, searching for purpose...\n",
    "\n",
    "You are a forgeling, an intelligent and self-aware artificial humanoid that was created by House Cadon to fight as a soldier in the Last War. \n",
    "\n",
    "In 996 YK, the Treaty of Starhaven was signed, ending the conflict and granting all forgelings the rights of sentient beings. House Cadon was ordered to destroy all of its Creation Forges and never again to create artificial life.\n",
    "\n",
    "Without a war to fight, freed of their creators, and with no heritage or culture of their own, forgelings are searching for a place in the world.\n",
    "\n",
    "Forgelings have a straightforward emotional range. Although the experience pain, fear, hatred, and anger like other races, they are reserved and pensive, hiding emotions behind expressionless metal faces. Many forgelings question the purpose of their existence and question whether or not they have souls. A forgeling often has limited experience in the world, having spent its entire existence assigned to one specific duty.\n",
    "\n",
    "Forgelings originally did not use names, as they had no need of them. But with their emancipation, it has become necessary for each forgeling to adopt a personal identity. Most chose nicknames assigned by their comrades, or else a common word which carries specific emotional meaning."
   ]
  },
  {
   "cell_type": "code",
   "execution_count": null,
   "metadata": {
    "collapsed": true
   },
   "outputs": [],
   "source": [
    "print \"I am \", me.name, \", a \", me.race, \" of House \", me.house, \".\""
   ]
  },
  {
   "cell_type": "markdown",
   "metadata": {},
   "source": [
    "Forgelings are not born into houses like humans, and they do not have eldritch marks. You earned a place in one of the Marked Houses by winning the allegiance of its members. Nonetheless, forgelings are capable of using eldritch speech to produce magical effects, and their unique minds allow them to easily perform some incantations which humans and Kalashi find challenging.\n",
    "\n",
    "In particular, their years of experience in battle have given forgelings an uncanny ability to predict the outcomes of uncertain actions. Whereas humans and Kalashi usually use the eldritch tongue only to achieve known effects (unlock this chest, fill this jug with clean water, etc.), forgelings also use it to get tactical information about the future (What will happen if I charge at this encampment? Who will win if I arm wrestle that bodyguard?)\n",
    "\n",
    "The key to making these predictions is to __simulate__ the future by random number generation."
   ]
  },
  {
   "cell_type": "code",
   "execution_count": 29,
   "metadata": {
    "collapsed": false
   },
   "outputs": [
    {
     "name": "stdout",
     "output_type": "stream",
     "text": [
      "9\n"
     ]
    }
   ],
   "source": [
    "from __future__ import division\n",
    "from random import * ## TODO: do this in the background to avoid distraction\n",
    "from numpy import average ## To avoid making them sum and len\n",
    "\n",
    "my_random_number = randint(1, 10)\n",
    "print my_random_number"
   ]
  },
  {
   "cell_type": "markdown",
   "metadata": {},
   "source": [
    "Run the above cell several times: you'll see that it produces a different output each time. The function `randint` randomly picks a number between the first input (in this case, 1) and the second input (here 10), including the endpoints. For example, `randint(1,2)` will return `1` half of the time and `2` half of the time.\n",
    "\n",
    "__Challenge.__ Define a function `coin_flip()` which prints `\"heads\"` or `\"tails\"` with equal probabilities."
   ]
  },
  {
   "cell_type": "code",
   "execution_count": null,
   "metadata": {
    "collapsed": true
   },
   "outputs": [],
   "source": [
    "def coin_flip():\n",
    "    ## Your code here"
   ]
  },
  {
   "cell_type": "markdown",
   "metadata": {},
   "source": [
    "__Optional.__ For more experience, define a function `unfair_coin_flip()` which prints `\"heads\"` 75% of the time and `\"tails\"` 25% of the time"
   ]
  },
  {
   "cell_type": "code",
   "execution_count": null,
   "metadata": {
    "collapsed": true
   },
   "outputs": [],
   "source": [
    "def unfair_coin_flip():\n",
    "    ## Your code here"
   ]
  },
  {
   "cell_type": "markdown",
   "metadata": {},
   "source": [
    "The future is uncertain because of randomness. In order to make guesses about the future, we will need to generate random numbers many times, determine an outcome in each case, and then see which outcomes are most common.\n",
    "\n",
    "During the Last War, forgelings often played dice games to pass the time. If you roll a six-sided die many times, what do you expect the average result to be? Perhaps halfway between 1 and 6, the extreme values?\n",
    "\n",
    "A forgeling can check the answer using eldritch speech."
   ]
  },
  {
   "cell_type": "code",
   "execution_count": 28,
   "metadata": {
    "collapsed": false
   },
   "outputs": [
    {
     "name": "stdout",
     "output_type": "stream",
     "text": [
      "The average of my rolls was:  3.436\n"
     ]
    }
   ],
   "source": [
    "my_dice_rolls = []\n",
    "\n",
    "for i in range(10):\n",
    "    this_roll = randint(1, 6)\n",
    "    my_dice_rolls.append(this_roll)\n",
    "    \n",
    "print \"The average of my rolls was: \", average(my_dice_rolls)"
   ]
  },
  {
   "cell_type": "markdown",
   "metadata": {},
   "source": [
    "(Notice that we used the function `average` here -- we could have also added up the dice rolls and divided by the total number of rolls by using `sum(my_dice_rolls)/len(my_dice_rolls)`, but this way is easier.)\n",
    "\n",
    "How many times does the above cell roll the dice? Try changing it to 100 rolls, 1000 rolls, or more. Do you think your average gets closer or further from the true average as the number of rolls increases?"
   ]
  },
  {
   "cell_type": "code",
   "execution_count": null,
   "metadata": {
    "collapsed": true
   },
   "outputs": [],
   "source": [
    "## TODO: A more involved example at the end. Consider reworking the dice and coin flips since they're boring as is."
   ]
  }
 ],
 "metadata": {
  "kernelspec": {
   "display_name": "Python 2",
   "language": "python",
   "name": "python2"
  },
  "language_info": {
   "codemirror_mode": {
    "name": "ipython",
    "version": 2
   },
   "file_extension": ".py",
   "mimetype": "text/x-python",
   "name": "python",
   "nbconvert_exporter": "python",
   "pygments_lexer": "ipython2",
   "version": "2.7.11"
  }
 },
 "nbformat": 4,
 "nbformat_minor": 0
}
