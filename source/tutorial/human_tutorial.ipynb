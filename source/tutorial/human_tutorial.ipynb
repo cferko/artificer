{
 "cells": [
  {
   "cell_type": "markdown",
   "metadata": {},
   "source": [
    "## Welcome to Caeros.\n",
    "\n",
    "You are a scion of one of the Marked Houses, powerful organizations that control the political and economic landscape of this continent. Members of these houses are masters of the eldritch tongue, an ancient and incredibly precise language which we learned from the Vestiges, mysterious beings that exist outside of space and time but who sometimes appear in human form to guide the course of history. Although it is incredibly difficult to learn, the eldritch tongue is capable of manipulating the world around you: speaking or writing the correct sentence can produce water from thin air, enchant a lifeless statue with sentience, or cause a ship to float into the air.\n",
    "\n",
    "You can practice phrases in the eldritch tongue using cells in notebooks, like this one. Try clicking on the next cell and hitting the shift and enter keys, or clicking on the \"run cell\" key in the toolbar above."
   ]
  },
  {
   "cell_type": "code",
   "execution_count": null,
   "metadata": {
    "collapsed": false
   },
   "outputs": [],
   "source": [
    "print \"Hello, Caeros. One day, my house will lead all those who call you home.\""
   ]
  },
  {
   "cell_type": "markdown",
   "metadata": {},
   "source": [
    "When you run a cell, the eldritch speech (sometimes called code) inside the cell is evaluated, and the results appear as output below. Here we've used the `print` keyword to display whatever text follows it. \n",
    "\n",
    "For this to work properly, the text must be enclosed in quotation marks, as you see above. \n",
    "\n",
    "**Challenge.** Try modifying the above cell by clicking inside of it and changing the text, removing the quotation marks. For example, you might try to evaluate `print hello caeros`. Run the cell again, and you will see that it does not work. Eldritch speech is very precise, and any grammatical errors like this will cause it to fail."
   ]
  },
  {
   "cell_type": "markdown",
   "metadata": {},
   "source": [
    "However, not all `print` statements like this need to involve raw text with quotation marks. Eldritch speech allows us to use *variables*, which are like nicknames that store certain information.\n",
    "\n",
    "Information about you is stored in an object called `me`. You can access variables, such as your house and race, using a period and the name of the corresponding variable. Try running the next cell, which will `print` the Marked House you belong to."
   ]
  },
  {
   "cell_type": "markdown",
   "metadata": {},
   "source": [
    "print me.house"
   ]
  },
  {
   "cell_type": "markdown",
   "metadata": {},
   "source": [
    "**Challenge.** In the cell below, try to figure out how to print your race."
   ]
  },
  {
   "cell_type": "code",
   "execution_count": null,
   "metadata": {
    "collapsed": true
   },
   "outputs": [],
   "source": []
  },
  {
   "cell_type": "markdown",
   "metadata": {},
   "source": [
    "Try running each of these cells."
   ]
  },
  {
   "cell_type": "code",
   "execution_count": null,
   "metadata": {
    "collapsed": true
   },
   "outputs": [],
   "source": [
    "print me.age"
   ]
  },
  {
   "cell_type": "code",
   "execution_count": null,
   "metadata": {
    "collapsed": true
   },
   "outputs": [],
   "source": [
    "next_age = me.age + 1\n",
    "print \"On my next birthday, I will be\", next_age, \"years old.\""
   ]
  },
  {
   "cell_type": "markdown",
   "metadata": {},
   "source": [
    "The formal last name of someone belonging to a Marked House is formed by writing d' before the name of the house; for example, Bromley of House Micaeli has the full name Bromley d'Micaeli."
   ]
  },
  {
   "cell_type": "code",
   "execution_count": null,
   "metadata": {
    "collapsed": false
   },
   "outputs": [],
   "source": [
    "my_house = me.house\n",
    "my_first_name = me.name\n",
    "my_gender = me.gender\n",
    "\n",
    "if my_gender=='male':\n",
    "    my_title = \"Lord\"\n",
    "elif my_gender=='female':\n",
    "    my_title = \"Lady\"\n",
    "else:\n",
    "    my_title = \"The Honorable\"\n",
    "\n",
    "print \"My full name is\", my_title, my_first_name, \"d'\", my_house"
   ]
  },
  {
   "cell_type": "markdown",
   "metadata": {},
   "source": [
    "Often you will need to communicate orders or decisions to others using variables in eldritch speech. In fact, earlier today many of the higher-ranking members of the houses received the following message from the Blade Guild, a military organization associated with House Donric. The message reads:\n",
    "\n",
    "> Lords and Ladies,\n",
    ">\n",
    "> Last evening, our scouts detected a large host of aberrants massing just north of the Swamp of Flies. More aberrants continue\n",
    "> to emerge from nearby tunnels, and intelligence suggests that the force might move further north to overrun the town of\n",
    "> Dawnport.\n",
    ">\n",
    "> It is, as always, the sworn duty of the Blade Guild to defend every Caerosi life. But our blades are spread thin, and to\n",
    "> mobilize an effective defense of Dawnport, we would need to pull forces away from the patrols currently guarding the\n",
    "> caravans that are en route to deliver Eldershards from the Mines of Keld. The caravans will reach a dropoff point by\n",
    "> midafternoon tomorrow, where the Eldershards will be loaded onto Zephyr and delivered to the capitol.\n",
    ">\n",
    "> Our standing orders are to ensure that the Eldershards are delivered at all costs, for House Cadon believes that they may need\n",
    "> them to build something that will win this war. However, we await your command.\n",
    ">\n",
    "> Yours,\n",
    ">\n",
    "> Sworn Blade Redan\n",
    "\n",
    "This is unfortunate indeed. Dawnport is a small fishing village with a population of under 200 people, and they will easily be overrun by the aberrants. As you know, the aberrants began appearing on the surface of Caeros a mere six months ago. They are the stuff of nightmares -- vicious monsters, part reptile and part insect and part hive mind, which gather into giant swarms before descending upon any inhabited location and devouring all life.\n",
    "\n",
    "<img src = '/home/main/notebooks/images/aberrant_intro.jpg' width='692' height='300'>\n",
    "\n",
    "The appearance of the aberrants is thought to be linked an ancient prophecy which has been revealed by the Vestiges in cryptic bits and pieces over the years. If the forces of Caeros, including the Marked Houses, do not stand together and face down this threat, all life may be extinguished.\n",
    "\n",
    "But the Eldershards that Redan mentioned are crucially important as well. Eldershards are rare stones that were first discovered thousands of years ago, around the time that the first eldritch marks first appeared on humans. The stones are thought to be linked to the magic of the eldritch marks, eldritch speech, and the vestiges themselves, and the shards have been used to power some of humanity's greatest inventions - the forgelings, the giant train known as Zephyr, and the airships which float above the skies of Caeros, to name a few.\n",
    "\n",
    "**Challenge**. But it now comes down to you to cast your vote. Should the Blade Guild risk valuable troops in an attempt to save Dawnport, or leave them to their fate and ensure the delivery of the Eldershards? In the next cell, make your decision by defining a variable -- enter `fight_for_dawnport=True` to advise fighting, or enter `fight_for_dawnport=False` to recommend that we guard the Eldershards. Run your cell when you've decided."
   ]
  },
  {
   "cell_type": "code",
   "execution_count": null,
   "metadata": {
    "collapsed": true
   },
   "outputs": [],
   "source": [
    "fight_for_dawnport = "
   ]
  },
  {
   "cell_type": "markdown",
   "metadata": {},
   "source": [
    "After completing an encounter or making a decision, it is wise to checkpoint your progress, which will save results and update allies on your achievements. To do so, run the command `%checkpoint` in any cell, like the one below."
   ]
  },
  {
   "cell_type": "code",
   "execution_count": null,
   "metadata": {
    "collapsed": true
   },
   "outputs": [],
   "source": [
    "%checkpoint"
   ]
  },
  {
   "cell_type": "markdown",
   "metadata": {},
   "source": []
  },
  {
   "cell_type": "markdown",
   "metadata": {},
   "source": [
    "We should discuss the other Marked Houses a bit more, to refresh your memory. The next cell defines a `list` containing the names of all of these houses. In the eldritch tongue, a list is a variable which contains other variables -- this allows you to hold a collection of variables conveniently in a single place."
   ]
  },
  {
   "cell_type": "code",
   "execution_count": null,
   "metadata": {
    "collapsed": true
   },
   "outputs": [],
   "source": [
    "marked_houses = ['Cadon', 'Donric', 'Ghammara', 'Jeordo', 'Kjaldar', 'Larenthil', 'Micaeli', 'Oraite', 'Phaelanmyr', \n",
    "                'Saryn', 'Thagash', 'Vernalis']"
   ]
  },
  {
   "cell_type": "markdown",
   "metadata": {},
   "source": [
    "You are, of course, aware that the Marked Houses are referred to as such because most of their members bear the eldritch marks. Several thousand years ago, when the Vestiges began appearing in human form and the first Eldershards were discovered, twelve human children across Caeros were born with mysterious birthmarks. These marks thrummed with magical energy and gave their bearers exceptional power over the eldritch tongue, each conferring special ability in a particular area. As these children grew and had children of their own, they found that the mysterious marks were passed down through their bloodlines. Over the years, the families of these twelve original progenitors used their marks to become wealthy and influential, eventually banding together into the organizations known as the Marked Houses today.\n",
    "\n",
    "You can get a short description of each house by using `house_info`, as in the next cell."
   ]
  },
  {
   "cell_type": "code",
   "execution_count": null,
   "metadata": {
    "collapsed": false
   },
   "outputs": [],
   "source": [
    "print house_info('Cadon')"
   ]
  },
  {
   "cell_type": "markdown",
   "metadata": {},
   "source": [
    "Eldritch speech is especially powerful because it allows you to perform many actions with a single utterance. For example, you can use a tool called a `for` loop, which will automatically move through a list of variables and do something with each one.\n",
    "\n",
    "As a simple example, the next cell will print out the descriptions of each marked house on a separate line."
   ]
  },
  {
   "cell_type": "code",
   "execution_count": null,
   "metadata": {
    "collapsed": false
   },
   "outputs": [],
   "source": [
    "for house in marked_houses:\n",
    "    print house_info(house)"
   ]
  },
  {
   "cell_type": "markdown",
   "metadata": {},
   "source": [
    "This object, `house_info`, is called a function. Like a machine which takes in some input and spits out a certain output, one can feed in the name of a house to this machine and it will spit out a description of that house.\n",
    "\n",
    "Eldritch speech allows you to define your own functions, using the word `def`. For example, you might create a function to introduce yourself:"
   ]
  },
  {
   "cell_type": "code",
   "execution_count": null,
   "metadata": {
    "collapsed": true
   },
   "outputs": [],
   "source": [
    "def introduction():\n",
    "    print \"Greetings. I am\", me.name, \"a\", me.race, \"of\", self.house"
   ]
  },
  {
   "cell_type": "markdown",
   "metadata": {},
   "source": [
    "What do you expect to happen if you run `introduction()` in a new cell? Try it below."
   ]
  },
  {
   "cell_type": "code",
   "execution_count": null,
   "metadata": {
    "collapsed": true
   },
   "outputs": [],
   "source": []
  },
  {
   "cell_type": "markdown",
   "metadata": {},
   "source": [
    "If you haven't done a checkpoint recently, you might want to do so now. It's a good idea to get in the habit of periodically recording your progress."
   ]
  },
  {
   "cell_type": "code",
   "execution_count": null,
   "metadata": {
    "collapsed": true
   },
   "outputs": [],
   "source": [
    "%checkpoint"
   ]
  },
  {
   "cell_type": "markdown",
   "metadata": {},
   "source": [
    "Many users of eldritch speech use functions like this to enchant items to behave in a certain way when the user is not around. Those of House Kjaldar create secure doors which only they may enter. These doors have been enchanted with the following function:"
   ]
  },
  {
   "cell_type": "code",
   "execution_count": null,
   "metadata": {
    "collapsed": true
   },
   "outputs": [],
   "source": [
    "def can_enter(person):\n",
    "    if person.house == 'Kjaldar':\n",
    "        return True\n",
    "    elif person.house != 'Kjaldar':\n",
    "        return False"
   ]
  },
  {
   "cell_type": "markdown",
   "metadata": {},
   "source": [
    "Notice that the eldritch tongue uses two equals signs (`==`) rather than one to check whether two variables are equivalent. This is because a single equals sign (`=`) is used to assign a new variable, as you did when you entered `fight_for_dawnport = True` or `fight_for_dawnport = False` above. The object `!=` is used to check whether two expressions are *not* equal.\n",
    "\n",
    "What do you expect to happen if you check whether you are allowed to enter a Kjaldar door?"
   ]
  },
  {
   "cell_type": "code",
   "execution_count": null,
   "metadata": {
    "collapsed": true
   },
   "outputs": [],
   "source": [
    "print can_enter(me)"
   ]
  },
  {
   "cell_type": "markdown",
   "metadata": {},
   "source": [
    "Those of House Saryn are known to enchant items which identify the language of the listener and speak accordingly.\n",
    "\n",
    "**Challenge.** In the cell below, define a function called `translated_greeting` which takes in a person as an input. If the person's race is `\"Kalashi\"`, then the function should return `\"Adar kolesq.\"`, which is a common greeting in the Kal language. If the person's race is not `\"Kalashi\"`, the function should return `\"Hello.\"`"
   ]
  },
  {
   "cell_type": "code",
   "execution_count": null,
   "metadata": {
    "collapsed": false
   },
   "outputs": [],
   "source": [
    "def translated_greeting(person):\n",
    "    # Your eldritch speech goes here."
   ]
  },
  {
   "cell_type": "markdown",
   "metadata": {},
   "source": [
    "**Optional.** For additional experience, define your function to access the person's gender through `person.gender`. If the result is `male`, use the title `\"my Lord\"`, so that a male human receives the greeting `\"Hello, my Lord.\"` If the result is `female`, use the title `\"my Lady\"`, so that a female Kalashi receives `\"Adar kolesq, my Lady.\"` If the result is neither `male` nor `female`, use the title `\"honored one\"`, so that a forgeling receives `\"Hello, honored one.\"`\n",
    "\n",
    "You may wish to use the elder speech object `and` to accomplish this, or you might find a more clever way which involves using the object `+` to combine two strings of text."
   ]
  },
  {
   "cell_type": "markdown",
   "metadata": {},
   "source": [
    "You're well aware that the humans, Kalashi, and Forgelings are the three civilized races. The Forgelings are our creations: bulky humanoid constructs covered in plates of metal and stone that were born in the Creation Forges of House Canith, then given life and awareness through the magic of Eldershards. They were built for a war that has since ended, and now search for purpose in this world.\n",
    "\n",
    "The Kalashi look like humans, but are really fusions of two different beings. In addition to this material plane, where the world of Estium (and upon it the continent of Caeros) lies, there is another plane of existence known as Kal Dorn. It is literally a realm of dreams: every night, human minds project into Kal Dorn while they sleep and play out their fantasies and nightmares. A race of spirits called the Kaluus call this world their home. Nearly two thousand years ago, a renegade group of Kaluus were being hunted down for their religious beliefs, and the spirits devised an ingenious scheme to avoid extermination. They convinced human monks to willingly fuse their souls with the persecuted Kaluus, allowing the spirits to permanently escape to our world. This created a new Kaluus-human hybrid race, known as the Kalashi; two Kalashi can produce Kalashi children, but they cannot interbreed with humans."
   ]
  },
  {
   "cell_type": "code",
   "execution_count": null,
   "metadata": {
    "collapsed": true
   },
   "outputs": [],
   "source": [
    "human_strength_list = []\n",
    "forgeling_strength_list = []\n",
    "\n",
    "for character in character_list:\n",
    "    if character.race == 'human':\n",
    "        human_strength_list.append(character.strength)\n",
    "    elif character.race == 'forgeling':\n",
    "        forgeling_strength_list.append(character.strength)\n",
    "        \n",
    "print \"There are\", len(human_strength_list), \"humans and\", len(forgeling_strength_list), \"forgelings in the list.\"\n",
    "\n",
    "print \"The total strength of all of the humans is\", sum(human_strength_list)."
   ]
  },
  {
   "cell_type": "markdown",
   "metadata": {},
   "source": [
    "The object `character_list` contains a sample of human, Kalashi, and Forgelings, along with their attributes (strength, constitution, dexterity, intelligence, wisdom, and charisma). You can access these attributes using the `character.strength`, etc., as you have done before.\n",
    "\n",
    "The cell above looks at each character in this `character_list`, checks whether the character is human or forgeling, and then saves that character's strength into the corresponding list (it does nothing for Kalashi characters).\n",
    "\n",
    "__Challenge__. Forgelings like to claim that their kind are stronger than humans. Can you use these two lists to compute the *average* strength for each race and check whether the claim is true? Save your results in two variables called `average_human_strength` and `average_forgeling_strength`."
   ]
  },
  {
   "cell_type": "code",
   "execution_count": null,
   "metadata": {
    "collapsed": false
   },
   "outputs": [],
   "source": [
    "# Compute the average human and forgeling strengths here"
   ]
  },
  {
   "cell_type": "markdown",
   "metadata": {},
   "source": [
    "__Challenge__. Compute the average wisdom of all humans, Forgelings, and Kalashi. Which race is the wisest?"
   ]
  },
  {
   "cell_type": "code",
   "execution_count": null,
   "metadata": {
    "collapsed": true
   },
   "outputs": [],
   "source": []
  }
 ],
 "metadata": {
  "kernelspec": {
   "display_name": "Python 2",
   "language": "python",
   "name": "python2"
  },
  "language_info": {
   "codemirror_mode": {
    "name": "ipython",
    "version": 2
   },
   "file_extension": ".py",
   "mimetype": "text/x-python",
   "name": "python",
   "nbconvert_exporter": "python",
   "pygments_lexer": "ipython2",
   "version": "2.7.11"
  }
 },
 "nbformat": 4,
 "nbformat_minor": 0
}
