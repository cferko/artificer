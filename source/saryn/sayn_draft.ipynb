{
 "cells": [
  {
   "cell_type": "markdown",
   "metadata": {},
   "source": [
    "## House Sayn\n",
    "\n",
    "This is the rough draft for the House Saryn quest. For now I'm trying out a few thinks with nltk to see what works."
   ]
  },
  {
   "cell_type": "code",
   "execution_count": 1,
   "metadata": {
    "collapsed": true
   },
   "outputs": [],
   "source": [
    "import nltk"
   ]
  },
  {
   "cell_type": "code",
   "execution_count": 6,
   "metadata": {
    "collapsed": false
   },
   "outputs": [
    {
     "name": "stdout",
     "output_type": "stream",
     "text": [
      "showing info http://www.nltk.org/nltk_data/\n"
     ]
    },
    {
     "data": {
      "text/plain": [
       "True"
      ]
     },
     "execution_count": 6,
     "metadata": {},
     "output_type": "execute_result"
    }
   ],
   "source": [
    "from nltk.classify import NaiveBayesClassifier\n",
    "from nltk.corpus import subjectivity\n",
    "from nltk.sentiment import SentimentAnalyzer\n",
    "from nltk.sentiment.util import *\n",
    "\n",
    "nltk.download()"
   ]
  },
  {
   "cell_type": "code",
   "execution_count": 11,
   "metadata": {
    "collapsed": false
   },
   "outputs": [
    {
     "name": "stdout",
     "output_type": "stream",
     "text": [
      "[nltk_data] Downloading package punkt to\n",
      "[nltk_data]     C:\\Users\\cferko\\AppData\\Roaming\\nltk_data...\n",
      "[nltk_data]   Package punkt is already up-to-date!\n",
      "VADER is smart, handsome, and funny.\n",
      "compound: 0.8316, \n",
      "neg: 0.0, \n",
      "neu: 0.254, \n",
      "pos: 0.746, \n",
      "VADER is smart, handsome, and funny!\n",
      "compound: 0.8439, \n",
      "neg: 0.0, \n",
      "neu: 0.248, \n",
      "pos: 0.752, \n",
      "VADER is very smart, handsome, and funny.\n",
      "compound: 0.8545, \n",
      "neg: 0.0, \n",
      "neu: 0.299, \n",
      "pos: 0.701, \n",
      "VADER is VERY SMART, handsome, and FUNNY.\n",
      "compound: 0.9227, \n",
      "neg: 0.0, \n",
      "neu: 0.246, \n",
      "pos: 0.754, \n",
      "VADER is VERY SMART, handsome, and FUNNY!!!\n",
      "compound: 0.9342, \n",
      "neg: 0.0, \n",
      "neu: 0.233, \n",
      "pos: 0.767, \n",
      "VADER is VERY SMART, really handsome, and INCREDIBLY FUNNY!!!\n",
      "compound: 0.9469, \n",
      "neg: 0.0, \n",
      "neu: 0.294, \n",
      "pos: 0.706, \n",
      "The book was good.\n",
      "compound: 0.4404, \n",
      "neg: 0.0, \n",
      "neu: 0.508, \n",
      "pos: 0.492, \n",
      "The book was kind of good.\n",
      "compound: 0.3832, \n",
      "neg: 0.0, \n",
      "neu: 0.657, \n",
      "pos: 0.343, \n",
      "The plot was good, but the characters are uncompelling and the dialog is not great.\n",
      "compound: -0.7042, \n",
      "neg: 0.327, \n",
      "neu: 0.579, \n",
      "pos: 0.094, \n",
      "A really bad, horrible book.\n",
      "compound: -0.8211, \n",
      "neg: 0.791, \n",
      "neu: 0.209, \n",
      "pos: 0.0, \n",
      "At least it isn't a horrible book.\n",
      "compound: 0.431, \n",
      "neg: 0.0, \n",
      "neu: 0.637, \n",
      "pos: 0.363, \n",
      ":) and :D\n",
      "compound: 0.7925, \n",
      "neg: 0.0, \n",
      "neu: 0.124, \n",
      "pos: 0.876, \n",
      "\n",
      "compound: 0.0, \n",
      "neg: 0.0, \n",
      "neu: 0.0, \n",
      "pos: 0.0, \n",
      "Today sux\n",
      "compound: -0.3612, \n",
      "neg: 0.714, \n",
      "neu: 0.286, \n",
      "pos: 0.0, \n",
      "Today sux!\n",
      "compound: -0.4199, \n",
      "neg: 0.736, \n",
      "neu: 0.264, \n",
      "pos: 0.0, \n",
      "Today SUX!\n",
      "compound: -0.5461, \n",
      "neg: 0.779, \n",
      "neu: 0.221, \n",
      "pos: 0.0, \n",
      "Today kinda sux! But I'll get by, lol\n",
      "compound: 0.2228, \n",
      "neg: 0.195, \n",
      "neu: 0.531, \n",
      "pos: 0.274, \n",
      "It was one of the worst movies I've seen, despite good reviews.\n",
      "compound: -0.7584, \n",
      "neg: 0.394, \n",
      "neu: 0.606, \n",
      "pos: 0.0, \n",
      "Unbelievably bad acting!!\n",
      "compound: -0.6572, \n",
      "neg: 0.686, \n",
      "neu: 0.314, \n",
      "pos: 0.0, \n",
      "Poor direction.\n",
      "compound: -0.4767, \n",
      "neg: 0.756, \n",
      "neu: 0.244, \n",
      "pos: 0.0, \n",
      "VERY poor production.\n",
      "compound: -0.6281, \n",
      "neg: 0.674, \n",
      "neu: 0.326, \n",
      "pos: 0.0, \n",
      "The movie was bad.\n",
      "compound: -0.5423, \n",
      "neg: 0.538, \n",
      "neu: 0.462, \n",
      "pos: 0.0, \n",
      "Very bad movie.\n",
      "compound: -0.5849, \n",
      "neg: 0.655, \n",
      "neu: 0.345, \n",
      "pos: 0.0, \n",
      "VERY bad movie.\n",
      "compound: -0.6732, \n",
      "neg: 0.694, \n",
      "neu: 0.306, \n",
      "pos: 0.0, \n",
      "VERY BAD movie.\n",
      "compound: -0.7398, \n",
      "neg: 0.724, \n",
      "neu: 0.276, \n",
      "pos: 0.0, \n",
      "VERY BAD movie!\n",
      "compound: -0.7616, \n",
      "neg: 0.735, \n",
      "neu: 0.265, \n",
      "pos: 0.0, \n",
      "Most automated sentiment analysis tools are shit.\n",
      "compound: -0.5574, \n",
      "neg: 0.375, \n",
      "neu: 0.625, \n",
      "pos: 0.0, \n",
      "VADER sentiment analysis is the shit.\n",
      "compound: 0.6124, \n",
      "neg: 0.0, \n",
      "neu: 0.556, \n",
      "pos: 0.444, \n",
      "Sentiment analysis has never been good.\n",
      "compound: -0.3412, \n",
      "neg: 0.325, \n",
      "neu: 0.675, \n",
      "pos: 0.0, \n",
      "Sentiment analysis with VADER has never been this good.\n",
      "compound: 0.5228, \n",
      "neg: 0.0, \n",
      "neu: 0.703, \n",
      "pos: 0.297, \n",
      "Warren Beatty has never been so entertaining.\n",
      "compound: 0.5777, \n",
      "neg: 0.0, \n",
      "neu: 0.616, \n",
      "pos: 0.384, \n",
      "I won't say that the movie is astounding and I wouldn't claim that    the movie is too banal either.\n",
      "compound: 0.4215, \n",
      "neg: 0.0, \n",
      "neu: 0.851, \n",
      "pos: 0.149, \n",
      "I like to hate Michael Bay films, but I couldn't fault this one\n",
      "compound: 0.3153, \n",
      "neg: 0.157, \n",
      "neu: 0.534, \n",
      "pos: 0.309, \n",
      "It's one thing to watch an Uwe Boll film, but another thing entirely    to pay for it\n",
      "compound: -0.2541, \n",
      "neg: 0.112, \n",
      "neu: 0.888, \n",
      "pos: 0.0, \n",
      "The movie was too good\n",
      "compound: 0.4404, \n",
      "neg: 0.0, \n",
      "neu: 0.58, \n",
      "pos: 0.42, \n",
      "This movie was actually neither that funny, nor super witty.\n",
      "compound: -0.6759, \n",
      "neg: 0.41, \n",
      "neu: 0.59, \n",
      "pos: 0.0, \n",
      "This movie doesn't care about cleverness, wit or any other kind of    intelligent humor.\n",
      "compound: -0.1338, \n",
      "neg: 0.265, \n",
      "neu: 0.497, \n",
      "pos: 0.239, \n",
      "Those who find ugly meanings in beautiful things are corrupt without    being charming.\n",
      "compound: -0.3553, \n",
      "neg: 0.314, \n",
      "neu: 0.493, \n",
      "pos: 0.192, \n",
      "There are slow and repetitive parts, BUT it has just enough spice to    keep it interesting.\n",
      "compound: 0.4678, \n",
      "neg: 0.079, \n",
      "neu: 0.735, \n",
      "pos: 0.186, \n",
      "The script is not fantastic, but the acting is decent and the cinematography    is EXCELLENT!\n",
      "compound: 0.7565, \n",
      "neg: 0.092, \n",
      "neu: 0.607, \n",
      "pos: 0.301, \n",
      "Roger Dodger is one of the most compelling variations on this theme.\n",
      "compound: 0.2944, \n",
      "neg: 0.0, \n",
      "neu: 0.834, \n",
      "pos: 0.166, \n",
      "Roger Dodger is one of the least compelling variations on this theme.\n",
      "compound: -0.1695, \n",
      "neg: 0.132, \n",
      "neu: 0.868, \n",
      "pos: 0.0, \n",
      "Roger Dodger is at least compelling as a variation on the theme.\n",
      "compound: 0.2263, \n",
      "neg: 0.0, \n",
      "neu: 0.84, \n",
      "pos: 0.16, \n",
      "they fall in love with the product\n",
      "compound: 0.6369, \n",
      "neg: 0.0, \n",
      "neu: 0.588, \n",
      "pos: 0.412, \n",
      "but then it breaks\n",
      "compound: 0.0, \n",
      "neg: 0.0, \n",
      "neu: 1.0, \n",
      "pos: 0.0, \n",
      "usually around the time the 90 day warranty expires\n",
      "compound: 0.0, \n",
      "neg: 0.0, \n",
      "neu: 1.0, \n",
      "pos: 0.0, \n",
      "the twin towers collapsed today\n",
      "compound: -0.2732, \n",
      "neg: 0.344, \n",
      "neu: 0.656, \n",
      "pos: 0.0, \n",
      "However, Mr. Carter solemnly argues, his client carried out the kidnapping    under orders and in the ''least offensive way possible.''\n",
      "compound: -0.5859, \n",
      "neg: 0.23, \n",
      "neu: 0.697, \n",
      "pos: 0.074, \n"
     ]
    }
   ],
   "source": [
    "from __future__ import print_function\n",
    "from nltk.sentiment.vader import SentimentIntensityAnalyzer\n",
    "\n",
    "nltk.download('punkt')\n",
    "\n",
    "sentences = [\"VADER is smart, handsome, and funny.\", # positive sentence example\n",
    "    \"VADER is smart, handsome, and funny!\", # punctuation emphasis handled correctly (sentiment intensity adjusted)\n",
    "    \"VADER is very smart, handsome, and funny.\",  # booster words handled correctly (sentiment intensity adjusted)\n",
    "    \"VADER is VERY SMART, handsome, and FUNNY.\",  # emphasis for ALLCAPS handled\n",
    "    \"VADER is VERY SMART, handsome, and FUNNY!!!\",# combination of signals - VADER appropriately adjusts intensity\n",
    "    \"VADER is VERY SMART, really handsome, and INCREDIBLY FUNNY!!!\",# booster words & punctuation make this close to ceiling for score\n",
    "    \"The book was good.\",         # positive sentence\n",
    "    \"The book was kind of good.\", # qualified positive sentence is handled correctly (intensity adjusted)\n",
    "    \"The plot was good, but the characters are uncompelling and the dialog is not great.\", # mixed negation sentence\n",
    "    \"A really bad, horrible book.\",       # negative sentence with booster words\n",
    "    \"At least it isn't a horrible book.\", # negated negative sentence with contraction\n",
    "    \":) and :D\",     # emoticons handled\n",
    "    \"\",              # an empty string is correctly handled\n",
    "    \"Today sux\",     #  negative slang handled\n",
    "    \"Today sux!\",    #  negative slang with punctuation emphasis handled\n",
    "    \"Today SUX!\",    #  negative slang with capitalization emphasis\n",
    "    \"Today kinda sux! But I'll get by, lol\" # mixed sentiment example with slang and constrastive conjunction \"but\"\n",
    " ]\n",
    "paragraph = \"It was one of the worst movies I've seen, despite good reviews. \\\n",
    "Unbelievably bad acting!! Poor direction. VERY poor production. \\\n",
    "The movie was bad. Very bad movie. VERY bad movie. VERY BAD movie. VERY BAD movie!\"\n",
    "from nltk import tokenize\n",
    "lines_list = tokenize.sent_tokenize(paragraph)\n",
    "sentences.extend(lines_list)\n",
    "tricky_sentences = [\n",
    "   \"Most automated sentiment analysis tools are shit.\",\n",
    "   \"VADER sentiment analysis is the shit.\",\n",
    "   \"Sentiment analysis has never been good.\",\n",
    "   \"Sentiment analysis with VADER has never been this good.\",\n",
    "  \"Warren Beatty has never been so entertaining.\",\n",
    "   \"I won't say that the movie is astounding and I wouldn't claim that \\\n",
    "   the movie is too banal either.\",\n",
    "  \"I like to hate Michael Bay films, but I couldn't fault this one\",\n",
    "   \"It's one thing to watch an Uwe Boll film, but another thing entirely \\\n",
    "   to pay for it\",\n",
    "   \"The movie was too good\",\n",
    "  \"This movie was actually neither that funny, nor super witty.\",\n",
    "  \"This movie doesn't care about cleverness, wit or any other kind of \\\n",
    "   intelligent humor.\",\n",
    "   \"Those who find ugly meanings in beautiful things are corrupt without \\\n",
    "   being charming.\",\n",
    "   \"There are slow and repetitive parts, BUT it has just enough spice to \\\n",
    "   keep it interesting.\",\n",
    "   \"The script is not fantastic, but the acting is decent and the cinematography \\\n",
    "   is EXCELLENT!\",\n",
    "   \"Roger Dodger is one of the most compelling variations on this theme.\",\n",
    "   \"Roger Dodger is one of the least compelling variations on this theme.\",\n",
    "   \"Roger Dodger is at least compelling as a variation on the theme.\",\n",
    "   \"they fall in love with the product\",\n",
    "   \"but then it breaks\",\n",
    "   \"usually around the time the 90 day warranty expires\",\n",
    "   \"the twin towers collapsed today\",\n",
    "   \"However, Mr. Carter solemnly argues, his client carried out the kidnapping \\\n",
    "   under orders and in the ''least offensive way possible.''\"\n",
    "]\n",
    "sentences.extend(tricky_sentences)\n",
    "sid = SentimentIntensityAnalyzer()\n",
    "for sentence in sentences:\n",
    "    print(sentence)\n",
    "    ss = sid.polarity_scores(sentence)\n",
    "    for k in sorted(ss):\n",
    "       print('{0}: {1}, '.format(k, ss[k]), end='')\n",
    "       print()"
   ]
  },
  {
   "cell_type": "code",
   "execution_count": 13,
   "metadata": {
    "collapsed": false
   },
   "outputs": [
    {
     "name": "stdout",
     "output_type": "stream",
     "text": [
      "{'neg': 0.182, 'neu': 0.688, 'pos': 0.129, 'compound': -0.3197}\n",
      "{'neg': 0.502, 'neu': 0.498, 'pos': 0.0, 'compound': -0.8436}\n"
     ]
    }
   ],
   "source": [
    "print(sid.polarity_scores(\"I didn't think that Merrix d'Cannith had very good ideas. She will probably get us all killed by the aberrants.\"))\n",
    "print(sid.polarity_scores(\"That's a terrible idea! House Jeordo is full of despicable, greedy, selfish pigs!\"))"
   ]
  },
  {
   "cell_type": "code",
   "execution_count": 17,
   "metadata": {
    "collapsed": false
   },
   "outputs": [
    {
     "name": "stdout",
     "output_type": "stream",
     "text": [
      "Cannot find the sentiment analyzer you want to load.\n",
      "Training a new one using NaiveBayesClassifier.\n",
      "Training classifier\n"
     ]
    },
    {
     "ename": "UnicodeEncodeError",
     "evalue": "'ascii' codec can't encode characters in position 0-1: ordinal not in range(128)",
     "output_type": "error",
     "traceback": [
      "\u001b[1;31m---------------------------------------------------------------------------\u001b[0m",
      "\u001b[1;31mUnicodeEncodeError\u001b[0m                        Traceback (most recent call last)",
      "\u001b[1;32m<ipython-input-17-89cafaf548fd>\u001b[0m in \u001b[0;36m<module>\u001b[1;34m()\u001b[0m\n\u001b[1;32m----> 1\u001b[1;33m \u001b[1;32mprint\u001b[0m\u001b[1;33m(\u001b[0m\u001b[0mnltk\u001b[0m\u001b[1;33m.\u001b[0m\u001b[0msentiment\u001b[0m\u001b[1;33m.\u001b[0m\u001b[0mutil\u001b[0m\u001b[1;33m.\u001b[0m\u001b[0mdemo_sent_subjectivity\u001b[0m\u001b[1;33m(\u001b[0m\u001b[1;34m\"I didn't think that Merrix d'Cannith had very good ideas. She will probably get us all killed by the aberrants.\"\u001b[0m\u001b[1;33m)\u001b[0m\u001b[1;33m)\u001b[0m\u001b[1;33m\u001b[0m\u001b[0m\n\u001b[0m",
      "\u001b[1;32mC:\\Users\\cferko\\Anaconda2\\lib\\site-packages\\nltk\\sentiment\\util.py\u001b[0m in \u001b[0;36mdemo_sent_subjectivity\u001b[1;34m(text)\u001b[0m\n\u001b[0;32m    598\u001b[0m         \u001b[1;32mprint\u001b[0m\u001b[1;33m(\u001b[0m\u001b[1;34m'Cannot find the sentiment analyzer you want to load.'\u001b[0m\u001b[1;33m)\u001b[0m\u001b[1;33m\u001b[0m\u001b[0m\n\u001b[0;32m    599\u001b[0m         \u001b[1;32mprint\u001b[0m\u001b[1;33m(\u001b[0m\u001b[1;34m'Training a new one using NaiveBayesClassifier.'\u001b[0m\u001b[1;33m)\u001b[0m\u001b[1;33m\u001b[0m\u001b[0m\n\u001b[1;32m--> 600\u001b[1;33m         \u001b[0msentim_analyzer\u001b[0m \u001b[1;33m=\u001b[0m \u001b[0mdemo_subjectivity\u001b[0m\u001b[1;33m(\u001b[0m\u001b[0mNaiveBayesClassifier\u001b[0m\u001b[1;33m.\u001b[0m\u001b[0mtrain\u001b[0m\u001b[1;33m,\u001b[0m \u001b[0mTrue\u001b[0m\u001b[1;33m)\u001b[0m\u001b[1;33m\u001b[0m\u001b[0m\n\u001b[0m\u001b[0;32m    601\u001b[0m \u001b[1;33m\u001b[0m\u001b[0m\n\u001b[0;32m    602\u001b[0m     \u001b[1;31m# Tokenize and convert to lower case\u001b[0m\u001b[1;33m\u001b[0m\u001b[1;33m\u001b[0m\u001b[0m\n",
      "\u001b[1;32mC:\\Users\\cferko\\Anaconda2\\lib\\site-packages\\nltk\\sentiment\\util.py\u001b[0m in \u001b[0;36mdemo_subjectivity\u001b[1;34m(trainer, save_analyzer, n_instances, output)\u001b[0m\n\u001b[0;32m    565\u001b[0m     \u001b[0mtest_set\u001b[0m \u001b[1;33m=\u001b[0m \u001b[0msentim_analyzer\u001b[0m\u001b[1;33m.\u001b[0m\u001b[0mapply_features\u001b[0m\u001b[1;33m(\u001b[0m\u001b[0mtesting_docs\u001b[0m\u001b[1;33m)\u001b[0m\u001b[1;33m\u001b[0m\u001b[0m\n\u001b[0;32m    566\u001b[0m \u001b[1;33m\u001b[0m\u001b[0m\n\u001b[1;32m--> 567\u001b[1;33m     \u001b[0mclassifier\u001b[0m \u001b[1;33m=\u001b[0m \u001b[0msentim_analyzer\u001b[0m\u001b[1;33m.\u001b[0m\u001b[0mtrain\u001b[0m\u001b[1;33m(\u001b[0m\u001b[0mtrainer\u001b[0m\u001b[1;33m,\u001b[0m \u001b[0mtraining_set\u001b[0m\u001b[1;33m)\u001b[0m\u001b[1;33m\u001b[0m\u001b[0m\n\u001b[0m\u001b[0;32m    568\u001b[0m     \u001b[1;32mtry\u001b[0m\u001b[1;33m:\u001b[0m\u001b[1;33m\u001b[0m\u001b[0m\n\u001b[0;32m    569\u001b[0m         \u001b[0mclassifier\u001b[0m\u001b[1;33m.\u001b[0m\u001b[0mshow_most_informative_features\u001b[0m\u001b[1;33m(\u001b[0m\u001b[1;33m)\u001b[0m\u001b[1;33m\u001b[0m\u001b[0m\n",
      "\u001b[1;32mC:\\Users\\cferko\\Anaconda2\\lib\\site-packages\\nltk\\sentiment\\sentiment_analyzer.py\u001b[0m in \u001b[0;36mtrain\u001b[1;34m(self, trainer, training_set, save_classifier, **kwargs)\u001b[0m\n\u001b[0;32m    170\u001b[0m         \u001b[1;33m:\u001b[0m\u001b[0mrtype\u001b[0m\u001b[1;33m:\u001b[0m\u001b[1;33m\u001b[0m\u001b[0m\n\u001b[0;32m    171\u001b[0m         \"\"\"\n\u001b[1;32m--> 172\u001b[1;33m         \u001b[1;32mprint\u001b[0m\u001b[1;33m(\u001b[0m\u001b[1;34m\"Training classifier\"\u001b[0m\u001b[1;33m)\u001b[0m\u001b[1;33m\u001b[0m\u001b[0m\n\u001b[0m\u001b[0;32m    173\u001b[0m         \u001b[0mself\u001b[0m\u001b[1;33m.\u001b[0m\u001b[0mclassifier\u001b[0m \u001b[1;33m=\u001b[0m \u001b[0mtrainer\u001b[0m\u001b[1;33m(\u001b[0m\u001b[0mtraining_set\u001b[0m\u001b[1;33m,\u001b[0m \u001b[1;33m**\u001b[0m\u001b[0mkwargs\u001b[0m\u001b[1;33m)\u001b[0m\u001b[1;33m\u001b[0m\u001b[0m\n\u001b[0;32m    174\u001b[0m         \u001b[1;32mif\u001b[0m \u001b[0msave_classifier\u001b[0m\u001b[1;33m:\u001b[0m\u001b[1;33m\u001b[0m\u001b[0m\n",
      "\u001b[1;32mC:\\Users\\cferko\\Anaconda2\\lib\\site-packages\\nltk\\classify\\naivebayes.py\u001b[0m in \u001b[0;36mtrain\u001b[1;34m(cls, labeled_featuresets, estimator)\u001b[0m\n\u001b[0;32m    192\u001b[0m         \u001b[1;31m# Count up how many times each feature value occurred, given\u001b[0m\u001b[1;33m\u001b[0m\u001b[1;33m\u001b[0m\u001b[0m\n\u001b[0;32m    193\u001b[0m         \u001b[1;31m# the label and featurename.\u001b[0m\u001b[1;33m\u001b[0m\u001b[1;33m\u001b[0m\u001b[0m\n\u001b[1;32m--> 194\u001b[1;33m         \u001b[1;32mfor\u001b[0m \u001b[0mfeatureset\u001b[0m\u001b[1;33m,\u001b[0m \u001b[0mlabel\u001b[0m \u001b[1;32min\u001b[0m \u001b[0mlabeled_featuresets\u001b[0m\u001b[1;33m:\u001b[0m\u001b[1;33m\u001b[0m\u001b[0m\n\u001b[0m\u001b[0;32m    195\u001b[0m             \u001b[0mlabel_freqdist\u001b[0m\u001b[1;33m[\u001b[0m\u001b[0mlabel\u001b[0m\u001b[1;33m]\u001b[0m \u001b[1;33m+=\u001b[0m \u001b[1;36m1\u001b[0m\u001b[1;33m\u001b[0m\u001b[0m\n\u001b[0;32m    196\u001b[0m             \u001b[1;32mfor\u001b[0m \u001b[0mfname\u001b[0m\u001b[1;33m,\u001b[0m \u001b[0mfval\u001b[0m \u001b[1;32min\u001b[0m \u001b[0mfeatureset\u001b[0m\u001b[1;33m.\u001b[0m\u001b[0mitems\u001b[0m\u001b[1;33m(\u001b[0m\u001b[1;33m)\u001b[0m\u001b[1;33m:\u001b[0m\u001b[1;33m\u001b[0m\u001b[0m\n",
      "\u001b[1;32mC:\\Users\\cferko\\Anaconda2\\lib\\site-packages\\nltk\\util.py\u001b[0m in \u001b[0;36miterate_from\u001b[1;34m(self, index)\u001b[0m\n\u001b[0;32m    895\u001b[0m         \u001b[1;33m>>\u001b[0m\u001b[1;33m>\u001b[0m \u001b[0mlist\u001b[0m\u001b[1;33m(\u001b[0m\u001b[0mLazyMap\u001b[0m\u001b[1;33m(\u001b[0m\u001b[0mfunction\u001b[0m\u001b[1;33m,\u001b[0m \u001b[0msequence\u001b[0m\u001b[1;33m)\u001b[0m\u001b[1;33m)\u001b[0m\u001b[1;33m\u001b[0m\u001b[0m\n\u001b[0;32m    896\u001b[0m         \u001b[1;33m[\u001b[0m\u001b[1;34m'1'\u001b[0m\u001b[1;33m,\u001b[0m \u001b[1;34m'2'\u001b[0m\u001b[1;33m,\u001b[0m \u001b[1;34m'3'\u001b[0m\u001b[1;33m]\u001b[0m\u001b[1;33m\u001b[0m\u001b[0m\n\u001b[1;32m--> 897\u001b[1;33m \u001b[1;33m\u001b[0m\u001b[0m\n\u001b[0m\u001b[0;32m    898\u001b[0m     \u001b[0mLike\u001b[0m \u001b[0mthe\u001b[0m \u001b[0mPython\u001b[0m \u001b[1;33m`\u001b[0m\u001b[1;33m`\u001b[0m\u001b[0mmap\u001b[0m\u001b[1;33m`\u001b[0m\u001b[1;33m`\u001b[0m \u001b[0mprimitive\u001b[0m\u001b[1;33m,\u001b[0m \u001b[1;32mif\u001b[0m \u001b[0mthe\u001b[0m \u001b[0msource\u001b[0m \u001b[0mlists\u001b[0m \u001b[0mdo\u001b[0m \u001b[1;32mnot\u001b[0m \u001b[0mhave\u001b[0m\u001b[1;33m\u001b[0m\u001b[0m\n\u001b[0;32m    899\u001b[0m     \u001b[0mequal\u001b[0m \u001b[0msize\u001b[0m\u001b[1;33m,\u001b[0m \u001b[0mthen\u001b[0m \u001b[0mthe\u001b[0m \u001b[0mvalue\u001b[0m \u001b[0mNone\u001b[0m \u001b[0mwill\u001b[0m \u001b[0mbe\u001b[0m \u001b[0msupplied\u001b[0m \u001b[1;32mfor\u001b[0m \u001b[0mthe\u001b[0m\u001b[1;33m\u001b[0m\u001b[0m\n",
      "\u001b[1;32mC:\\Users\\cferko\\Anaconda2\\lib\\site-packages\\nltk\\classify\\util.py\u001b[0m in \u001b[0;36mlazy_func\u001b[1;34m(labeled_token)\u001b[0m\n\u001b[0;32m     63\u001b[0m     \u001b[1;32mif\u001b[0m \u001b[0mlabeled\u001b[0m\u001b[1;33m:\u001b[0m\u001b[1;33m\u001b[0m\u001b[0m\n\u001b[0;32m     64\u001b[0m         \u001b[1;32mdef\u001b[0m \u001b[0mlazy_func\u001b[0m\u001b[1;33m(\u001b[0m\u001b[0mlabeled_token\u001b[0m\u001b[1;33m)\u001b[0m\u001b[1;33m:\u001b[0m\u001b[1;33m\u001b[0m\u001b[0m\n\u001b[1;32m---> 65\u001b[1;33m             \u001b[1;32mreturn\u001b[0m \u001b[1;33m(\u001b[0m\u001b[0mfeature_func\u001b[0m\u001b[1;33m(\u001b[0m\u001b[0mlabeled_token\u001b[0m\u001b[1;33m[\u001b[0m\u001b[1;36m0\u001b[0m\u001b[1;33m]\u001b[0m\u001b[1;33m)\u001b[0m\u001b[1;33m,\u001b[0m \u001b[0mlabeled_token\u001b[0m\u001b[1;33m[\u001b[0m\u001b[1;36m1\u001b[0m\u001b[1;33m]\u001b[0m\u001b[1;33m)\u001b[0m\u001b[1;33m\u001b[0m\u001b[0m\n\u001b[0m\u001b[0;32m     66\u001b[0m         \u001b[1;32mreturn\u001b[0m \u001b[0mLazyMap\u001b[0m\u001b[1;33m(\u001b[0m\u001b[0mlazy_func\u001b[0m\u001b[1;33m,\u001b[0m \u001b[0mtoks\u001b[0m\u001b[1;33m)\u001b[0m\u001b[1;33m\u001b[0m\u001b[0m\n\u001b[0;32m     67\u001b[0m     \u001b[1;32melse\u001b[0m\u001b[1;33m:\u001b[0m\u001b[1;33m\u001b[0m\u001b[0m\n",
      "\u001b[1;32mC:\\Users\\cferko\\Anaconda2\\lib\\site-packages\\nltk\\sentiment\\sentiment_analyzer.py\u001b[0m in \u001b[0;36mextract_features\u001b[1;34m(self, document)\u001b[0m\n\u001b[0;32m    147\u001b[0m         \u001b[1;32mfor\u001b[0m \u001b[0mextractor\u001b[0m \u001b[1;32min\u001b[0m \u001b[0mself\u001b[0m\u001b[1;33m.\u001b[0m\u001b[0mfeat_extractors\u001b[0m\u001b[1;33m:\u001b[0m\u001b[1;33m\u001b[0m\u001b[0m\n\u001b[0;32m    148\u001b[0m             \u001b[1;32mfor\u001b[0m \u001b[0mparam_set\u001b[0m \u001b[1;32min\u001b[0m \u001b[0mself\u001b[0m\u001b[1;33m.\u001b[0m\u001b[0mfeat_extractors\u001b[0m\u001b[1;33m[\u001b[0m\u001b[0mextractor\u001b[0m\u001b[1;33m]\u001b[0m\u001b[1;33m:\u001b[0m\u001b[1;33m\u001b[0m\u001b[0m\n\u001b[1;32m--> 149\u001b[1;33m                 \u001b[0mfeats\u001b[0m \u001b[1;33m=\u001b[0m \u001b[0mextractor\u001b[0m\u001b[1;33m(\u001b[0m\u001b[0mdocument\u001b[0m\u001b[1;33m,\u001b[0m \u001b[1;33m**\u001b[0m\u001b[0mparam_set\u001b[0m\u001b[1;33m)\u001b[0m\u001b[1;33m\u001b[0m\u001b[0m\n\u001b[0m\u001b[0;32m    150\u001b[0m             \u001b[0mall_features\u001b[0m\u001b[1;33m.\u001b[0m\u001b[0mupdate\u001b[0m\u001b[1;33m(\u001b[0m\u001b[0mfeats\u001b[0m\u001b[1;33m)\u001b[0m\u001b[1;33m\u001b[0m\u001b[0m\n\u001b[0;32m    151\u001b[0m         \u001b[1;32mreturn\u001b[0m \u001b[0mall_features\u001b[0m\u001b[1;33m\u001b[0m\u001b[0m\n",
      "\u001b[1;32mC:\\Users\\cferko\\Anaconda2\\lib\\site-packages\\nltk\\sentiment\\util.py\u001b[0m in \u001b[0;36mextract_unigram_feats\u001b[1;34m(document, unigrams, handle_negation)\u001b[0m\n\u001b[0;32m    114\u001b[0m         \u001b[0mdocument\u001b[0m \u001b[1;33m=\u001b[0m \u001b[0mmark_negation\u001b[0m\u001b[1;33m(\u001b[0m\u001b[0mdocument\u001b[0m\u001b[1;33m)\u001b[0m\u001b[1;33m\u001b[0m\u001b[0m\n\u001b[0;32m    115\u001b[0m     \u001b[1;32mfor\u001b[0m \u001b[0mword\u001b[0m \u001b[1;32min\u001b[0m \u001b[0munigrams\u001b[0m\u001b[1;33m:\u001b[0m\u001b[1;33m\u001b[0m\u001b[0m\n\u001b[1;32m--> 116\u001b[1;33m         \u001b[0mfeatures\u001b[0m\u001b[1;33m[\u001b[0m\u001b[1;34m'contains({0})'\u001b[0m\u001b[1;33m.\u001b[0m\u001b[0mformat\u001b[0m\u001b[1;33m(\u001b[0m\u001b[0mword\u001b[0m\u001b[1;33m)\u001b[0m\u001b[1;33m]\u001b[0m \u001b[1;33m=\u001b[0m \u001b[0mword\u001b[0m \u001b[1;32min\u001b[0m \u001b[0mset\u001b[0m\u001b[1;33m(\u001b[0m\u001b[0mdocument\u001b[0m\u001b[1;33m)\u001b[0m\u001b[1;33m\u001b[0m\u001b[0m\n\u001b[0m\u001b[0;32m    117\u001b[0m     \u001b[1;32mreturn\u001b[0m \u001b[0mfeatures\u001b[0m\u001b[1;33m\u001b[0m\u001b[0m\n\u001b[0;32m    118\u001b[0m \u001b[1;33m\u001b[0m\u001b[0m\n",
      "\u001b[1;31mUnicodeEncodeError\u001b[0m: 'ascii' codec can't encode characters in position 0-1: ordinal not in range(128)"
     ]
    }
   ],
   "source": [
    "print(nltk.sentiment.util.demo_sent_subjectivity(\"I didn't think that Merrix d'Cannith had very good ideas. She will probably get us all killed by the aberrants.\"))"
   ]
  },
  {
   "cell_type": "code",
   "execution_count": 15,
   "metadata": {
    "collapsed": false
   },
   "outputs": [
    {
     "name": "stdout",
     "output_type": "stream",
     "text": [
      "[nltk_data] Downloading package subjectivity to\n",
      "[nltk_data]     C:\\Users\\cferko\\AppData\\Roaming\\nltk_data...\n",
      "[nltk_data]   Unzipping corpora\\subjectivity.zip.\n"
     ]
    },
    {
     "data": {
      "text/plain": [
       "True"
      ]
     },
     "execution_count": 15,
     "metadata": {},
     "output_type": "execute_result"
    }
   ],
   "source": [
    "nltk.download(\"subjectivity\")"
   ]
  },
  {
   "cell_type": "code",
   "execution_count": null,
   "metadata": {
    "collapsed": true
   },
   "outputs": [],
   "source": []
  }
 ],
 "metadata": {
  "kernelspec": {
   "display_name": "Python 2",
   "language": "python",
   "name": "python2"
  },
  "language_info": {
   "codemirror_mode": {
    "name": "ipython",
    "version": 2
   },
   "file_extension": ".py",
   "mimetype": "text/x-python",
   "name": "python",
   "nbconvert_exporter": "python",
   "pygments_lexer": "ipython2",
   "version": "2.7.11"
  }
 },
 "nbformat": 4,
 "nbformat_minor": 0
}
