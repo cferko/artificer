{
 "cells": [
  {
   "cell_type": "markdown",
   "metadata": {},
   "source": [
    "## Words are our Power\n",
    "\n",
    "You are a member of House Saryn, masters of the spoken and written word. Your house is responsible for long-distance communication across Caeros (using your magical *speaking stones*), guaranteeing contracts and written agreements, and mediating disputes.\n",
    "\n",
    "Your house knows the power of words. In fact, you have access to one of the largest libraries in the world, with copies of almost all of the written records known to man. To access it, execute the following cell."
   ]
  },
  {
   "cell_type": "code",
   "execution_count": 4,
   "metadata": {
    "collapsed": false
   },
   "outputs": [],
   "source": [
    "import nltk ## All of these imports will get wrapped\n",
    "from nltk.corpus import PlaintextCorpusReader\n",
    "\n",
    "corpus_root = '../../corpus/'\n",
    "library = PlaintextCorpusReader(corpus_root, '.*', encoding='utf-8')"
   ]
  },
  {
   "cell_type": "markdown",
   "metadata": {},
   "source": [
    "You can gather information about words and relationships between words using this libraray. For example,"
   ]
  },
  {
   "cell_type": "code",
   "execution_count": 5,
   "metadata": {
    "collapsed": false,
    "scrolled": true
   },
   "outputs": [],
   "source": [
    "fdist = nltk.FreqDist(w.lower() for w in library.words())"
   ]
  },
  {
   "cell_type": "code",
   "execution_count": 6,
   "metadata": {
    "collapsed": false
   },
   "outputs": [
    {
     "data": {
      "text/plain": [
       "[(u'the', 22008),\n",
       " (u',', 12982),\n",
       " (u'of', 11082),\n",
       " (u'.', 9870),\n",
       " (u'and', 7968),\n",
       " (u'to', 5908),\n",
       " (u'a', 4624),\n",
       " (u'in', 3794),\n",
       " (u'as', 2042),\n",
       " (u\"'\", 1977),\n",
       " (u'that', 1798),\n",
       " (u'for', 1574),\n",
       " (u'is', 1502),\n",
       " (u'with', 1492),\n",
       " (u'their', 1344),\n",
       " (u'are', 1304),\n",
       " (u'from', 1276),\n",
       " (u'or', 1074),\n",
       " (u'have', 1040),\n",
       " (u's', 1022),\n",
       " (u'house', 1020),\n",
       " (u'has', 998),\n",
       " (u'it', 944),\n",
       " (u'on', 924),\n",
       " (u'they', 890),\n",
       " (u'-', 826),\n",
       " (u'his', 788),\n",
       " (u'by', 786),\n",
       " (u'but', 774),\n",
       " (u'(', 766),\n",
       " (u'its', 746),\n",
       " (u'an', 728),\n",
       " (u'be', 726),\n",
       " (u'this', 712),\n",
       " (u'can', 644),\n",
       " (u'other', 628),\n",
       " (u':', 608),\n",
       " (u'who', 580),\n",
       " (u'all', 570),\n",
       " (u'most', 558),\n",
       " (u'city', 552),\n",
       " (u'into', 544),\n",
       " (u'one', 536),\n",
       " (u'more', 536),\n",
       " (u'her', 534),\n",
       " (u'he', 522),\n",
       " (u'war', 510),\n",
       " (u'was', 492),\n",
       " (u'these', 490),\n",
       " (u'some', 458),\n",
       " (u'not', 450),\n",
       " (u'nation', 436),\n",
       " (u'at', 424),\n",
       " (u'while', 396),\n",
       " (u';', 386),\n",
       " (u'when', 382),\n",
       " (u'nations', 370),\n",
       " (u'galifar', 368),\n",
       " (u'great', 366),\n",
       " (u'them', 362),\n",
       " (u'breland', 360),\n",
       " (u'many', 356),\n",
       " (u'last', 352),\n",
       " (u'flame', 350),\n",
       " (u'power', 344),\n",
       " (u'she', 344),\n",
       " (u'within', 332),\n",
       " (u'than', 328),\n",
       " (u'ancient', 322),\n",
       " (u'few', 316),\n",
       " (u')', 314),\n",
       " (u'over', 314),\n",
       " (u'years', 310),\n",
       " (u'land', 310),\n",
       " (u'silver', 302),\n",
       " (u'out', 298),\n",
       " (u'been', 296),\n",
       " (u'king', 296),\n",
       " (u'those', 288),\n",
       " (u'among', 280),\n",
       " (u'human', 278),\n",
       " (u'tribes', 272),\n",
       " (u'even', 270),\n",
       " (u'no', 270),\n",
       " (u'through', 266),\n",
       " (u'place', 266),\n",
       " (u'men', 265),\n",
       " (u'aundair', 264),\n",
       " (u't', 260),\n",
       " (u'adventurers', 258),\n",
       " (u'members', 258),\n",
       " (u'karrnath', 258),\n",
       " (u'each', 256),\n",
       " (u'across', 254),\n",
       " (u'up', 252),\n",
       " (u'only', 248),\n",
       " (u'new', 248),\n",
       " (u'time', 246),\n",
       " (u'houses', 246),\n",
       " (u'thrane', 246)]"
      ]
     },
     "execution_count": 6,
     "metadata": {},
     "output_type": "execute_result"
    }
   ],
   "source": [
    "fdist.most_common(100)"
   ]
  },
  {
   "cell_type": "markdown",
   "metadata": {},
   "source": [
    "This lists the most common words which appear in our library.\n",
    "\n",
    "(TODO: insert one other simple demo here, maybe wordnet)"
   ]
  },
  {
   "cell_type": "markdown",
   "metadata": {},
   "source": [
    "But you have not been summoned here for these simple tasks, that might befit a librarian.\n",
    "\n",
    "No, we __will wish to unlock the secrets of consciousness__.\n",
    "\n",
    "As you know, years ago, House Cadon created the first forgelings. Using the magic of the eldrich tongue, Cadon infused these constructs with intelligence and self-awareness. After the Last War ended, though, the Treaty of Starhaven required House Cadon to destroy all of its Creation Forges, and all of the Forgelings were granted their freedom. Since then, all research into the creation of intelligent machines has been forbidden.\n",
    "\n",
    "House Saryn wishes to change that. We realize that the secret to true intelligence is the understanding of language, and using our mastery of words, we will rediscover the secret of creating awareness. This, we believe, is the secret to survival in the face of the aberrant invasion -- although we cannot reveal the reason for this to you just yet.\n",
    "\n",
    "We first need our intelligence to understand the structure of sentences."
   ]
  },
  {
   "cell_type": "code",
   "execution_count": 12,
   "metadata": {
    "collapsed": false
   },
   "outputs": [
    {
     "name": "stdout",
     "output_type": "stream",
     "text": [
      "The Wardens protect travelers from bandits , rabid beasts , and the aberrations that lurk in the shadows .\n"
     ]
    }
   ],
   "source": [
    "import string\n",
    "my_sentence = string.join(library.sents()[500])\n",
    "print my_sentence"
   ]
  },
  {
   "cell_type": "markdown",
   "metadata": {
    "collapsed": false
   },
   "source": [
    "(Note: the above cell fails when I try to reun it locally. Check whether it works on the Binder server.)"
   ]
  },
  {
   "cell_type": "markdown",
   "metadata": {
    "collapsed": true
   },
   "source": [
    "Our first step to creating true intelligence is understanding how to __tag__ a sentence with parts of speech -- our creations will not be very intelligent if they cannot tell, when a person says \"fly,\" whether they mean an insect or an action one does with a magical carpet.\n",
    "\n",
    "We would like our creation to be able to take a sentence and label it as follows:"
   ]
  },
  {
   "cell_type": "code",
   "execution_count": 19,
   "metadata": {
    "collapsed": false
   },
   "outputs": [
    {
     "name": "stdout",
     "output_type": "stream",
     "text": [
      "[('The', u'DET'), ('Wardens', u'NOUN'), ('protect', u'NOUN'), ('travelers', u'NOUN'), ('from', u'ADP'), ('bandits', u'NOUN'), (',', u'.'), ('rabid', u'NOUN'), ('beasts', u'NOUN'), (',', u'.'), ('and', u'CONJ'), ('the', u'DET'), ('aberrations', u'NOUN'), ('that', u'DET'), ('lurk', u'VERB'), ('in', u'ADP'), ('the', u'DET'), ('shadows', u'NOUN'), ('.', u'.')]\n"
     ]
    }
   ],
   "source": [
    "#print nltk.pos_tag(str(my_sentence)) ## Putting in sentence by hand to test\n",
    "sentence=\"The Wardens protect travelers from bandits, rabid beasts, and the aberrations that lurk in the shadows.\"\n",
    "print nltk.pos_tag(nltk.word_tokenize(sentence), tagset=\"universal\")"
   ]
  },
  {
   "cell_type": "markdown",
   "metadata": {},
   "source": [
    "Each of the words in the sentence has been matched with a label identifying its part of speech -- for example, \"Wardens\" is tagged as \"NOUN\" and lurk is tagged as \"VERB.\" However, note that our labeler is not perfect. It incorrectly identified \"protect\" as a noun, even though it is used as a verb.\n",
    "\n",
    "It falls upon you to determine a way to perform this labeling successfully.\n",
    "\n",
    "One way to do this, which is not very successful, is simply to guess that all words have the same part of speech. __In normal conversation, the most common part of speech is nouns, followed by verbs__."
   ]
  },
  {
   "cell_type": "markdown",
   "metadata": {},
   "source": [
    "__Challenge__. Design a function, `dumb_guess`, which simply guesses that every word has the same part of speech. Using the above information, which part of speech should your function guess to maximize accuracy?"
   ]
  },
  {
   "cell_type": "code",
   "execution_count": 29,
   "metadata": {
    "collapsed": false
   },
   "outputs": [
    {
     "ename": "IndentationError",
     "evalue": "expected an indented block (<ipython-input-29-09a67bfa27f1>, line 2)",
     "output_type": "error",
     "traceback": [
      "\u001b[1;36m  File \u001b[1;32m\"<ipython-input-29-09a67bfa27f1>\"\u001b[1;36m, line \u001b[1;32m2\u001b[0m\n\u001b[1;33m    ## Your code here\u001b[0m\n\u001b[1;37m                     ^\u001b[0m\n\u001b[1;31mIndentationError\u001b[0m\u001b[1;31m:\u001b[0m expected an indented block\n"
     ]
    }
   ],
   "source": [
    "def dumb_guess(input_word):\n",
    "    ## Your code here"
   ]
  },
  {
   "cell_type": "markdown",
   "metadata": {},
   "source": [
    "(Note to cf: they should have chosen to tag everything as nouns)\n",
    "\n",
    "We will investigate that performance of this function by __scoring__ it, that is, we will take a list of words with their correctly-labeled parts of speech and see what percentage of these your function gets correct."
   ]
  },
  {
   "cell_type": "code",
   "execution_count": 30,
   "metadata": {
    "collapsed": false
   },
   "outputs": [
    {
     "data": {
      "text/plain": [
       "0.13089484257215028"
      ]
     },
     "execution_count": 30,
     "metadata": {},
     "output_type": "execute_result"
    }
   ],
   "source": [
    "default_tagger = nltk.DefaultTagger('NN') ## TODO: hide all of this in a wrapper\n",
    "from nltk.corpus import brown\n",
    "brown_tagged_sents = brown.tagged_sents(categories='news')\n",
    "default_tagger.evaluate(brown_tagged_sents)"
   ]
  },
  {
   "cell_type": "markdown",
   "metadata": {},
   "source": [
    "Our function only gets about 13% of the words correct.\n",
    "\n",
    "Let's create a more sophisticated guessing rule. Using our library, we will provide you with the 100 most common words and their parts of speech. Try the following strategy: if a given word is in this list, guess the part of speech that this word is usually used as; otherwise, default to the function you defined above."
   ]
  },
  {
   "cell_type": "markdown",
   "metadata": {},
   "source": [
    "(TODO: write this up carefully)"
   ]
  },
  {
   "cell_type": "markdown",
   "metadata": {},
   "source": [
    "Good, this function has improved the accuracy of our tagger to almost 25%. Using the techniques that you've developed, our House Saryn scribes can determine how to further improve this accuracy.\n",
    "\n",
    "Given your performance and loyalty to the cause, it is time to reveal a secret to you.\n",
    "\n",
    "__We do not wish to create intelligent machines as weapons to stop the aberrant invasion. We want to create them as vessels for our own consciousness.__\n",
    "\n",
    "House Cadon made a foolish mistake when they created the warforged: they allows their creations to exist independently and have free will. We cannot repeat their error; make no mistake, the aberrants will surely devour all life, and there is nothing we can do about that. Our only chance of survival is to implant our consciousness into beings which the aberrants cannot consume. __And since the aberrants destroy only organic matter, if we can transplant our minds into bodies of metal and stone, we will be safe.__\n",
    "\n",
    "To do this, we must first re-create constructs that are capable of consciousness, as House Cadon created over 30 years ago. These constructs must be able to do more than identify parts of speech: they need to understand and react to all forms of natural language."
   ]
  },
  {
   "cell_type": "markdown",
   "metadata": {},
   "source": [
    "(Note to cf: this part will be a text classification exercise, *either* classifying common vs. Khalashi or else classifying the type of common document based on features. Depends on whether I can find a large enough corpus of Khalashi documents. Assume for the moment that they will do language classification and use Khalashi -- really Na'vi -- for testing.)\n",
    "\n",
    "TODO: Using Na'vi for Kaluus completely changes the sound of the language. Should probably rename."
   ]
  },
  {
   "cell_type": "markdown",
   "metadata": {},
   "source": [
    "We will create a function which takes as input a sample of Kaluus or Common text, and then guesses which language the sample is written in. We could do this in the way that you predicted parts of speech above -- by observing some rules and then generating the rules by hand -- but instead we will use __machine learning__ to do this. This technique involves selecting a collection of __features__ that you think are important for deciding which language the sample belongs to, and then feeding these into a machine which tries to guess the rule for you.\n",
    "\n",
    "(TODO: insert a few representative examples of Kaluus text here. Pick out one feature for them and show them how to encode it. Show the performance of a classifier, say naive Bayes, using this feature. Challenge them to select more features. Once they do, have them test it with naive bayes and with a decision tree. Ask them to decide which is better, using a richer performance metric e.g. confusion matrix)."
   ]
  },
  {
   "cell_type": "markdown",
   "metadata": {},
   "source": [
    "Here is an example of text in the Nan language (in fact, it is a piece of poetry written by a Nan'fya scholar).\n",
    "\n",
    ">Maria kxamlä na’rìng kä, Eywa tìhawnu sivi! \n",
    "\n",
    ">Maria kxamlä na’rìng kä a ayzìsìto kea ayrìk tsar ke lalmu\n",
    "\n",
    ">Yeysu sì Maria!\n",
    "\n",
    ">Peul tok peyä txe’lanit, Eywa tìhawnu sivi!\n",
    "\n",
    ">Hì’ia ’evil tìsrawluke terok txe’lanit Mariayä\n",
    "\n",
    ">Yeysu sì Maria!\n",
    "\n",
    ">Ayutralur lu frrnesyul, Eywa tìhawnu sivi!\n",
    "\n",
    ">Ayutral lu frrnesyul tengkrr zamerunge ’evit na’rìngmì\n",
    "\n",
    ">Yeysu sì Maria!\n",
    "\n",
    "Let's identify some features. We want to define a function that returns a collection of attributes of some word, which will help us determine whether the word is Nan or Common.\n",
    "\n",
    "Perhaps you noticed from the above sample that a lot of Nan words end in vowels (Yeysu, si, hi'ia...). We can try defining a feature which simply returns the last letter of a word."
   ]
  },
  {
   "cell_type": "code",
   "execution_count": 20,
   "metadata": {
    "collapsed": true
   },
   "outputs": [],
   "source": [
    "def word_features(word):\n",
    "    return {'last_letter' : word[-1]}"
   ]
  },
  {
   "cell_type": "markdown",
   "metadata": {},
   "source": [
    "Our function takes in a word and returns a __dictionary__, which links the name of our feature (\"last_letter\") to the value of that feature for the input word.\n",
    "\n",
    "You can define a function which adds extra features by separating them as follows."
   ]
  },
  {
   "cell_type": "code",
   "execution_count": 21,
   "metadata": {
    "collapsed": true
   },
   "outputs": [],
   "source": [
    "def word_features(word):\n",
    "    return {last_letter: word[-1],\n",
    "           first_letter: word[1],\n",
    "           my_awesome_feature: 5 }"
   ]
  },
  {
   "cell_type": "markdown",
   "metadata": {},
   "source": [
    "__Challenge__. Design a function, `word_features`, which selects some additional features that you think are desirable in deciding whether a word is Nan or Common.\n",
    "\n",
    "(note to cf: they should think of obvious features like the first and last letter, perhaps the length and the fraction of vowels)"
   ]
  },
  {
   "cell_type": "markdown",
   "metadata": {},
   "source": [
    "TODO: want sentiment analysis to go here for logical progression of algorithm complexity, but also want to analyze students' responses to the election question before the election actually occurs. Think more on this.\n",
    "\n",
    "TODO: write this section. Use the nltk.sentiment library; goal is to combine polarity (positive, neutral, negative) with the subjectivity/objectivity classifier to optimize a certain function, but I have to decide what that is."
   ]
  },
  {
   "cell_type": "markdown",
   "metadata": {
    "collapsed": true
   },
   "source": []
  }
 ],
 "metadata": {
  "kernelspec": {
   "display_name": "Python 2",
   "language": "python",
   "name": "python2"
  },
  "language_info": {
   "codemirror_mode": {
    "name": "ipython",
    "version": 2
   },
   "file_extension": ".py",
   "mimetype": "text/x-python",
   "name": "python",
   "nbconvert_exporter": "python",
   "pygments_lexer": "ipython2",
   "version": "2.7.11"
  }
 },
 "nbformat": 4,
 "nbformat_minor": 0
}
