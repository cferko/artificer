{
 "cells": [
  {
   "cell_type": "markdown",
   "metadata": {},
   "source": [
    "## Predicting the Conclave\n",
    "\n",
    "Although our work on understanding the nature of intelligence and recreating self-aware machines is a priority, the upcoming conclave also demands our attention.\n",
    "\n",
    "As you know, the city of Pran is governed by The Twelve, an elected council made up of one representative from each of the Marked Houses. The terms of the Treaty of Starhaven guarantee that membership in The Twelve is a lifetime appointment -- one elected to the position forsakes their status in their House in order to focus on governing.\n",
    "\n",
    "But even though The Twelve no longer have formal allegiance to their previous Houses, they still tend to act in their previous Houses' best interest. For this reason, House Saryn is very interested in this group."
   ]
  },
  {
   "cell_type": "code",
   "execution_count": 2,
   "metadata": {
    "collapsed": false
   },
   "outputs": [
    {
     "name": "stdout",
     "output_type": "stream",
     "text": [
      "Training classifier\n"
     ]
    },
    {
     "name": "stderr",
     "output_type": "stream",
     "text": [
      "C:\\Users\\cferko\\Anaconda2\\lib\\site-packages\\nltk\\twitter\\__init__.py:20: UserWarning: The twython library has not been installed. Some functionality from the twitter package will not be available.\n",
      "  warnings.warn(\"The twython library has not been installed. \"\n"
     ]
    }
   ],
   "source": [
    "%run ../../code/saryn_bonus_backend.py"
   ]
  },
  {
   "cell_type": "code",
   "execution_count": 11,
   "metadata": {
    "collapsed": false
   },
   "outputs": [
    {
     "data": {
      "text/plain": [
       "{'compoundness': -0.8885,\n",
       " 'negativity': 0.412,\n",
       " 'neutrality': 0.588,\n",
       " 'objectivity': 'obj',\n",
       " 'positivity': 0.0}"
      ]
     },
     "execution_count": 11,
     "metadata": {},
     "output_type": "execute_result"
    }
   ],
   "source": [
    "sentiment(\"She is a fool and terrible choice for the Twelve. Vote for her and you'll get us all killed.\")"
   ]
  },
  {
   "cell_type": "markdown",
   "metadata": {},
   "source": [
    "One week ago, Leda Vernalis was returning to Parn overland from a visit to her hometown when her caravan was overrun by aberrants and she was killed. Tradition dictates that the City of Towers hold a __conclave__, in which every member of one of the Marked Houses casts a vote for Leda's replacement. The remaining eleven members will collect the votes and meet in secret to discuss them, then announce their decision.\n",
    "\n",
    "There are currently three frontrunners who are competing for votes. (Describe them here)."
   ]
  },
  {
   "cell_type": "code",
   "execution_count": 4,
   "metadata": {
    "collapsed": false
   },
   "outputs": [
    {
     "name": "stdout",
     "output_type": "stream",
     "text": [
      "{'neutrality': 0.637, 'positivity': 0.363, 'objectivity': 'subj', 'compoundness': 0.431, 'negativity': 0.0}\n"
     ]
    }
   ],
   "source": [
    "print sentiment(\"At least it isn't a horrible book.\")"
   ]
  },
  {
   "cell_type": "markdown",
   "metadata": {},
   "source": [
    "House Saryn has received an offer from House Phaelanmyr. Through their spying activities, the Phaelanmyrs have collected a great deal of correspondence between various barons of the Marked Houses, some of which involves discussion of their opinions on the upcoming Conclave. The Phaelanmyrs cannot give us the correspondence directly -- this could attract retribution if any of the compromised Houses found out -- but they have offered to perform an incantation in the eldritch tongue on the correspondence and report the results to us."
   ]
  },
  {
   "cell_type": "markdown",
   "metadata": {},
   "source": [
    "To accept the Phaelanmyr's offer, we must construct a function which takes as input a list of sentences, each of which is a piece of conversation between two members of Marked Houses. The function can perform some operations on each of the sentences, such as measuring the positivity or negativity using the `sentiment` function. After looking at all of the sentences, our function should __guess who will be elected to The Twelve at the next Conclave.__\n",
    "\n",
    "For example, if the list of sentences given as input were\n",
    "\n",
    "`sentences=[\"Merrix is the best.\", \"I will vote for Merrix.\", \"I think that Merrix is the best choice for The Twelve.\"]`\n",
    "\n",
    "then your function should guess that Merrix will win,\n",
    "\n",
    "`predict_conclave(sentences) = Merrix`."
   ]
  },
  {
   "cell_type": "markdown",
   "metadata": {},
   "source": [
    "__Challenge__. Write a function, `predict_conclave`, which takes a list of sentences and guesses who will be elected at the next conclave. Some things to think about:\n",
    "* You cannot look at the sentences directly; once your function is complete, it will be run on all of the sentences and you only get to see the output.\n",
    "* You can use the `sentiment` function to get information about whether the sentence is positive or negative, and other characteristics such as subjectivity versus objectivity.\n",
    "* Not all of the sentences in the list are about the Conclave. Your function should have some way of detecting whether the sentence is relevant to the election, and only factoring it into the decision if it is relevant."
   ]
  },
  {
   "cell_type": "code",
   "execution_count": null,
   "metadata": {
    "collapsed": true
   },
   "outputs": [],
   "source": [
    "def predict_conclave(sentences):\n",
    "    ## Your code goes here"
   ]
  }
 ],
 "metadata": {
  "kernelspec": {
   "display_name": "Python 2",
   "language": "python",
   "name": "python2"
  },
  "language_info": {
   "codemirror_mode": {
    "name": "ipython",
    "version": 2
   },
   "file_extension": ".py",
   "mimetype": "text/x-python",
   "name": "python",
   "nbconvert_exporter": "python",
   "pygments_lexer": "ipython2",
   "version": "2.7.11"
  }
 },
 "nbformat": 4,
 "nbformat_minor": 0
}
