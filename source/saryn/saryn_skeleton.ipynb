{
 "cells": [
  {
   "cell_type": "markdown",
   "metadata": {},
   "source": [
    "## Words are our Power\n",
    "\n",
    "You are a member of House Saryn, masters of the spoken and written word. Your house is responsible for long-distance communication across Caeros (using your magical *speaking stones*), guaranteeing contracts and written agreements, and mediating disputes.\n",
    "\n",
    "Your house knows the power of words. In fact, you have access to one of the largest libraries in the world, with copies of almost all of the written records known to man. To access it, execute the following cell."
   ]
  },
  {
   "cell_type": "code",
   "execution_count": null,
   "metadata": {
    "collapsed": false
   },
   "outputs": [],
   "source": [
    "import nltk ## All of these imports will get wrapped\n",
    "from nltk.corpus import PlaintextCorpusReader\n",
    "\n",
    "corpus_root = '../../corpus/'\n",
    "library = PlaintextCorpusReader(corpus_root, '.*', encoding='utf-8')"
   ]
  },
  {
   "cell_type": "markdown",
   "metadata": {},
   "source": [
    "You can gather information about words and relationships between words using this libraray. For example,"
   ]
  },
  {
   "cell_type": "code",
   "execution_count": null,
   "metadata": {
    "collapsed": false,
    "scrolled": true
   },
   "outputs": [],
   "source": [
    "fdist = nltk.FreqDist(w.lower() for w in library.words())"
   ]
  },
  {
   "cell_type": "code",
   "execution_count": null,
   "metadata": {
    "collapsed": false
   },
   "outputs": [],
   "source": [
    "fdist.most_common(100)"
   ]
  },
  {
   "cell_type": "markdown",
   "metadata": {},
   "source": [
    "This lists the most common words which appear in our library.\n",
    "\n",
    "(TODO: insert one other simple demo here, maybe wordnet)"
   ]
  },
  {
   "cell_type": "markdown",
   "metadata": {},
   "source": [
    "But you have not been summoned here for these simple tasks, that might befit a librarian.\n",
    "\n",
    "No, we __will wish to unlock the secrets of consciousness__.\n",
    "\n",
    "As you know, years ago, House Cadon created the first forgelings. Using the magic of the eldrich tongue, Cadon infused these constructs with intelligence and self-awareness. After the Last War ended, though, the Treaty of Starhaven required House Cadon to destroy all of its Creation Forges, and all of the Forgelings were granted their freedom. Since then, all research into the creation of intelligent machines has been forbidden.\n",
    "\n",
    "House Saryn wishes to change that. We realize that the secret to true intelligence is the understanding of language, and using our mastery of words, we will rediscover the secret of creating awareness. This, we believe, is the secret to survival in the face of the aberrant invasion -- although we cannot reveal the reason for this to you just yet.\n",
    "\n",
    "We first need our intelligence to understand the structure of sentences."
   ]
  },
  {
   "cell_type": "code",
   "execution_count": null,
   "metadata": {
    "collapsed": false
   },
   "outputs": [],
   "source": [
    "import string\n",
    "my_sentence = string.join(library.sents()[500])"
   ]
  },
  {
   "cell_type": "markdown",
   "metadata": {
    "collapsed": false
   },
   "source": [
    "(Note: the above cell fails when I try to reun it locally. Check whether it works on the Binder server.)"
   ]
  },
  {
   "cell_type": "markdown",
   "metadata": {
    "collapsed": true
   },
   "source": [
    "Our first step to creating true intelligence is understanding how to __tag__ a sentence with parts of speech -- our creations will not be very intelligent if they cannot tell, when a person says \"fly,\" whether they mean an insect or an action one does with a magical carpet.\n",
    "\n",
    "We would like our creation to be able to take a sentence and label it as follows:"
   ]
  },
  {
   "cell_type": "code",
   "execution_count": null,
   "metadata": {
    "collapsed": true
   },
   "outputs": [],
   "source": [
    "print nltk.pos_tag(my_sentence)"
   ]
  },
  {
   "cell_type": "markdown",
   "metadata": {},
   "source": [
    "It falls upon you to determine a way to do this successfully.\n",
    "\n",
    "One way to do this, which is not very successful, is simply to guess that all words have the same part of speech. __In normal conversation, nouns make up (fill in)% of words, verbs (fill in)%, adjectives (fill in)%, adverbs (fill in)%, and prepositions (fill in)%_)__."
   ]
  },
  {
   "cell_type": "markdown",
   "metadata": {},
   "source": [
    "__Challenge__. Design a function, `dumb_guess`, which simply guesses that every word has the same part of speech. Using the above information, which part of speech should your function guess to maximize accuracy?"
   ]
  },
  {
   "cell_type": "code",
   "execution_count": 29,
   "metadata": {
    "collapsed": false
   },
   "outputs": [
    {
     "ename": "IndentationError",
     "evalue": "expected an indented block (<ipython-input-29-09a67bfa27f1>, line 2)",
     "output_type": "error",
     "traceback": [
      "\u001b[1;36m  File \u001b[1;32m\"<ipython-input-29-09a67bfa27f1>\"\u001b[1;36m, line \u001b[1;32m2\u001b[0m\n\u001b[1;33m    ## Your code here\u001b[0m\n\u001b[1;37m                     ^\u001b[0m\n\u001b[1;31mIndentationError\u001b[0m\u001b[1;31m:\u001b[0m expected an indented block\n"
     ]
    }
   ],
   "source": [
    "def dumb_guess(input_word):\n",
    "    ## Your code here"
   ]
  },
  {
   "cell_type": "markdown",
   "metadata": {},
   "source": [
    "(Note to cf: they should have chosen to tag everything as nouns)\n",
    "\n",
    "We will investigate that performance of this function by __scoring__ it, that is, we will take a list of words with their correctly-labeled parts of speech and see what percentage of these your function gets correct."
   ]
  },
  {
   "cell_type": "code",
   "execution_count": 30,
   "metadata": {
    "collapsed": false
   },
   "outputs": [
    {
     "data": {
      "text/plain": [
       "0.13089484257215028"
      ]
     },
     "execution_count": 30,
     "metadata": {},
     "output_type": "execute_result"
    }
   ],
   "source": [
    "default_tagger = nltk.DefaultTagger('NN') ## TODO: hide all of this in a wrapper\n",
    "from nltk.corpus import brown\n",
    "brown_tagged_sents = brown.tagged_sents(categories='news')\n",
    "default_tagger.evaluate(brown_tagged_sents)"
   ]
  },
  {
   "cell_type": "markdown",
   "metadata": {},
   "source": [
    "Our function only gets about 13% of the words correct.\n",
    "\n",
    "Let's create a more sophisticated guessing rule. Using our library, we will provide you with the 100 most common words and their parts of speech. Try the following strategy: if a given word is in this list, guess the part of speech that this word is usually used as; otherwise, default to the function you defined above."
   ]
  },
  {
   "cell_type": "markdown",
   "metadata": {},
   "source": [
    "(TODO: write this up carefully)"
   ]
  },
  {
   "cell_type": "markdown",
   "metadata": {},
   "source": [
    "Good, this function has improved the accuracy of our tagger to almost 25%. Using the techniques that you've developed, our House Saryn scribes can determine how to further improve this accuracy.\n",
    "\n",
    "Given your performance and loyalty to the cause, it is time to reveal a secret to you.\n",
    "\n",
    "__We do not wish to create intelligent machines as weapons to stop the aberrant invasion. We want to create them as vessels for our own consciousness.__\n",
    "\n",
    "House Cadon made a foolish mistake when they created the warforged: they allows their creations to exist independently and have free will. We cannot repeat their error; make no mistake, the aberrants will surely devour all life, and there is nothing we can do about that. Our only chance of survival is to implant our consciousness into beings which the aberrants cannot consume. __And since the aberrants destroy only organic matter, if we can transplant our minds into bodies of metal and stone, we will be safe.__\n",
    "\n",
    "To do this, we must first re-create constructs that are capable of consciousness, as House Cadon created over 30 years ago. These constructs must be able to do more than identify parts of speech: they need to understand and react to all forms of natural language."
   ]
  },
  {
   "cell_type": "markdown",
   "metadata": {},
   "source": [
    "(Note to cf: this part will be a text classification exercise, *either* classifying common vs. Khalashi or else classifying the type of common document based on features. Depends on whether I can find a large enough corpus of Khalashi documents. Assume for the moment that they will do language classification and use Khalashi -- really Na'vi -- for testing.)\n",
    "\n",
    "TODO: Using Na'vi for Kaluus completely changes the sound of the language. Should probably rename."
   ]
  },
  {
   "cell_type": "markdown",
   "metadata": {},
   "source": [
    "We will create a function which takes as input a sample of Kaluus or Common text, and then guesses which language the sample is written in. We could do this in the way that you predicted parts of speech above -- by observing some rules and then generating the rules by hand -- but instead we will use __machine learning__ to do this. This technique involves selecting a collection of __features__ that you think are important for deciding which language the sample belongs to, and then feeding these into a machine which tries to guess the rule for you.\n",
    "\n",
    "(TODO: insert a few representative examples of Kaluus text here. Pick out one feature for them and show them how to encode it. Show the performance of a classifier, say naive Bayes, using this feature. Challenge them to select more features. Once they do, have them test it with naive bayes and with a decision tree. Ask them to decide which is better, using a richer performance metric e.g. confusion matrix)."
   ]
  },
  {
   "cell_type": "markdown",
   "metadata": {},
   "source": [
    "TODO: want sentiment analysis to go here for logical progression of algorithm complexity, but also want to analyze students' responses to the election question before the election actually occurs. Think more on this.\n",
    "\n",
    "TODO: write this section. Use the nltk.sentiment library; goal is to combine polarity (positive, neutral, negative) with the subjectivity/objectivity classifier to optimize a certain function, but I have to decide what that is."
   ]
  },
  {
   "cell_type": "code",
   "execution_count": null,
   "metadata": {
    "collapsed": true
   },
   "outputs": [],
   "source": []
  }
 ],
 "metadata": {
  "kernelspec": {
   "display_name": "Python 2",
   "language": "python",
   "name": "python2"
  },
  "language_info": {
   "codemirror_mode": {
    "name": "ipython",
    "version": 2
   },
   "file_extension": ".py",
   "mimetype": "text/x-python",
   "name": "python",
   "nbconvert_exporter": "python",
   "pygments_lexer": "ipython2",
   "version": "2.7.11"
  }
 },
 "nbformat": 4,
 "nbformat_minor": 0
}
