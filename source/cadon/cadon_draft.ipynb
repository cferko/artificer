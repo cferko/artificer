{
 "cells": [
  {
   "cell_type": "markdown",
   "metadata": {},
   "source": [
    "This is the rough draft for the House Cadon quest.\n",
    "\n",
    "Those of House Cadon are tinkers, artificers, and engineers. In our plot, they intend to design a floating platform which will allow their city to take to the skies -- or at least the section of the city which houses their keep. Floating safely above the clouds, they reason, there will be no threat from the aberrant invaders.\n",
    "\n",
    "To do this, they will need to design the platform and think about some questions of solid mechanics that come up in mechanical engineering.\n",
    "\n",
    "As of now I'm planning to use the SfePy library for FEA. Sample code here: http://sfepy.org/gallery/gallery\n",
    "\n",
    "One possible way this could go is:\n",
    "\n",
    "* Introduce the plan for a floating city and the way House Cadon tests design. Do a simple conceptual overview of finite elements and perhaps give a simple example with a rod, although this might be too boring. The exposition should be general enough so that it applies to solving any PDEs at this point. I think we should give them a brainstorming task here but I'm not sure what.\n",
    "* First propose that the platform be made of a flexible weight bearing material. Model as Hertzian sphere problem (cf. elastic contact sphere). Simulate, derive P^(1/3) relation by giving them a programming task to extract values from simulation.\n",
    "* Explain that this framework can also solve the heat equation to model temperature distributions. Design question involving placement of some eldershard crystals which can become very warm, and testing suggestions for cooling? Need to flesh out details here.\n",
    "* One or two other possible choices for the floating city design, possibly involving a twist (porous medium, pressure distribution if there's a crack?).\n",
    "* Final task is to compare and contrast these, perhaps constructing some loss function and choosing the best."
   ]
  }
 ],
 "metadata": {
  "kernelspec": {
   "display_name": "Python 2",
   "language": "python",
   "name": "python2"
  },
  "language_info": {
   "codemirror_mode": {
    "name": "ipython",
    "version": 2
   },
   "file_extension": ".py",
   "mimetype": "text/x-python",
   "name": "python",
   "nbconvert_exporter": "python",
   "pygments_lexer": "ipython2",
   "version": "2.7.11"
  }
 },
 "nbformat": 4,
 "nbformat_minor": 0
}
