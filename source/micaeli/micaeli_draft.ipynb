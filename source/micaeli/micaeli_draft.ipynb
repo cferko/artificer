{
 "cells": [
  {
   "cell_type": "markdown",
   "metadata": {},
   "source": [
    "## We Watch, We Listen, and We Control.\n",
    "\n",
    "House Micaeli understands the value of knowledge, and we use our magically-enhanced powers of perception to notice secrets that no normal man would see. We have acted as detectives, inquisitors, and spy catchers, amassing power through observation.\n",
    "\n",
    "In most cases, this has been observation of other people. A Micaeli's sharp senses can easily detect when a person is lying or pick up on a whispered conversation in a crowded marketplace. We can do this thanks to the Eldritch tongue, which can be used to understand sound."
   ]
  },
  {
   "cell_type": "code",
   "execution_count": null,
   "metadata": {
    "collapsed": false,
    "scrolled": true
   },
   "outputs": [],
   "source": [
    "## Click inside this cell and hit Shift+Enter to run it\n",
    "%run setup.py\n",
    "compare_speech()"
   ]
  },
  {
   "cell_type": "code",
   "execution_count": null,
   "metadata": {
    "collapsed": false
   },
   "outputs": [],
   "source": [
    "male_human_sample = get_male_example()\n",
    "female_human_sample = get_female_example()"
   ]
  },
  {
   "cell_type": "code",
   "execution_count": null,
   "metadata": {
    "collapsed": false
   },
   "outputs": [],
   "source": [
    "listen(female_human_sample)"
   ]
  },
  {
   "cell_type": "markdown",
   "metadata": {},
   "source": [
    "You can change the above cell and re-run it to listen to the male sample.\n",
    "\n",
    "Micaelis can manipulate sound by representing it as a list of numbers -- indeed, sound itself is a series of pressure changes that propagates through the air. If we record a \"pushing\" pressure with a positive number and a \"pulling\" pressure with a negative number, then such a list can completely capture what your ear feels when someone speaks to you."
   ]
  },
  {
   "cell_type": "code",
   "execution_count": null,
   "metadata": {
    "collapsed": false
   },
   "outputs": [],
   "source": [
    "print female_human_sample"
   ]
  },
  {
   "cell_type": "markdown",
   "metadata": {},
   "source": [
    "Using the Eldritch tongue, we have stored information about this woman's utterance using an identifier called a __variable__. The list of numbers (which records the pressure changes caused by the sound of her voice) has been assigned to the name `female_human_sample`. You can access individual numbers in the list using a technique called _slicing_, in which you put the number of the element you want to extract inside square brackets [] after the variable name."
   ]
  },
  {
   "cell_type": "code",
   "execution_count": null,
   "metadata": {
    "collapsed": false
   },
   "outputs": [],
   "source": [
    "print female_human_sample[0]"
   ]
  },
  {
   "cell_type": "code",
   "execution_count": null,
   "metadata": {
    "collapsed": false
   },
   "outputs": [],
   "source": [
    "print female_human_sample[1]"
   ]
  },
  {
   "cell_type": "markdown",
   "metadata": {},
   "source": [
    "One of the pecularities of the Eldritch tongue is that, to get the __first__ number in the list, you put the number __0__ inside of the brackets (and to get the second number you put 1, and so forth). It seems that the Vestiges who created this language began counting at 0 instead of 1.\n",
    "\n",
    "__Challenge__. What you do you think slicing with the number -1 between square brackets does? Try it. What did it do?"
   ]
  },
  {
   "cell_type": "code",
   "execution_count": null,
   "metadata": {
    "collapsed": true
   },
   "outputs": [],
   "source": []
  },
  {
   "cell_type": "markdown",
   "metadata": {},
   "source": [
    "A scion of House Micaeli will use the information contained in this list of numbers to learn things about the speaker; powerful barons of our house can analyze these patterns and predict the topic of conversation, how old the speaker is, and even whether the speech is truth or lie.\n",
    "\n",
    "To perform analyses like these, you may need to walk through the entire list of numbers and do something with each one. For example, we could add up all of the numbers in the list using the Eldritch tongue like this:"
   ]
  },
  {
   "cell_type": "code",
   "execution_count": null,
   "metadata": {
    "collapsed": false
   },
   "outputs": [],
   "source": [
    "my_sum = 0\n",
    "\n",
    "for number in male_human_sample:\n",
    "    my_sum = my_sum + number\n",
    "    \n",
    "print my_sum"
   ]
  },
  {
   "cell_type": "markdown",
   "metadata": {},
   "source": [
    "The line `my_sum=0` creates a new variable which is a number with the value 0. The line `for number in male_human_sample` is called a `for` loop, and tells the Eldritch tongue that whatever instructions follow it should be performed to each of the entries in the list `male_human_sample`. In this case, for each number in that list, we add the number to our variable `my_sum`. At the end of the incantation, we ask the Eldritch tongue to display the final sum using `print`."
   ]
  },
  {
   "cell_type": "markdown",
   "metadata": {},
   "source": [
    "However, computing the sum of all numbers in the list is not especially useful for predicting properties of the sound -- the positive and negative numbers in the sound cancel each other out and we lose a lot of information. \n",
    "\n",
    "A more interesting quantity is the __signal energy__ of a piece of audio, which measures its average volume. To find the signal energy, one adds up the *squares* of the numbers in the list, and then divides by the total length of the list. By squaring the numbers, we add contributions from both positive numbers and negative numbers, which both represent high pressures.\n",
    "\n",
    "For example, the signal energy of the list\n",
    "\n",
    "    [3, -2, 1]\n",
    "    \n",
    "is `5`, since $3^2 + (-2)^2 + 1^2 = 15$, and dividing by the length of the list gives $\\frac{15}{3} = 5$. Mathematically,\n",
    "\n",
    "$$ \\text{signal energy}(x_1, ..., x_n) = \\frac{x_1^2 + \\dots + x_n^2}{n} $$\n",
    "\n",
    "__Challenge__. Write a cell which prints out the signal energy of `male_human_sample`. You might need to use the symbol `*`, which multiplies two numbers, and the expression `len(male_human_sample)`, which gives the total length of the list."
   ]
  },
  {
   "cell_type": "code",
   "execution_count": null,
   "metadata": {
    "collapsed": true
   },
   "outputs": [],
   "source": []
  },
  {
   "cell_type": "markdown",
   "metadata": {},
   "source": [
    "From listening to the samples, which do you expect to have a higher signal energy? Why? Re-run your cell above to print the signal energy of `female_human_sample` and see whether your guess was right."
   ]
  },
  {
   "cell_type": "markdown",
   "metadata": {},
   "source": [
    "Often, a Micaeli can learn much more about sound by visualizing it than by looking at a raw list of numbers."
   ]
  },
  {
   "cell_type": "code",
   "execution_count": null,
   "metadata": {
    "collapsed": false
   },
   "outputs": [],
   "source": [
    "plot(female_human_sample)"
   ]
  },
  {
   "cell_type": "markdown",
   "metadata": {},
   "source": [
    "In the Eldritch tongue, `plot` takes a list of numbers and displays a visualization which shows the size of each of the numbers with a blue line that has the corresponding height. Notice that this plot has large spikes during the parts of the audio which contain speech, and a relatively flat profile during periods of silence.\n",
    "\n",
    "This allows us to see which part of the sample is the loudest (has the highest pressure)."
   ]
  },
  {
   "cell_type": "markdown",
   "metadata": {},
   "source": [
    "You must be wondering why I distract you with such trivialities at a time like this. Our House struggles for its very existence against the vicious aberrant invaders, while power over the City of Towers will soon change hands -- hopefully to ours.\n",
    "\n",
    "The other barons of Micaeli have proposed a plan, and we seek your approval. Just as our House has come to power through investigating other people, learning their secrets, and using this as power, __what if we can prevail over the monstrous aberrants by observing them__? We must know our enemy, and if we can understand how these creatures communicate as well as we understand the speech of men, we will have the upper hand."
   ]
  },
  {
   "cell_type": "code",
   "execution_count": null,
   "metadata": {
    "collapsed": true
   },
   "outputs": [],
   "source": [
    "aberrant_example = get_aberrant_example()"
   ]
  },
  {
   "cell_type": "markdown",
   "metadata": {},
   "source": [
    "__Challenge__. Use the listen function to observe the aberrant sound."
   ]
  },
  {
   "cell_type": "code",
   "execution_count": null,
   "metadata": {
    "collapsed": true
   },
   "outputs": [],
   "source": []
  },
  {
   "cell_type": "code",
   "execution_count": null,
   "metadata": {
    "collapsed": false
   },
   "outputs": [],
   "source": [
    "plot(aberrant_example)"
   ]
  },
  {
   "cell_type": "markdown",
   "metadata": {},
   "source": [
    "See how different the plot of this creature's \"voice\" looks from those of the man and woman. This will be a challenge even for us. These creatures sound so different from humans!"
   ]
  },
  {
   "cell_type": "markdown",
   "metadata": {},
   "source": [
    "__Brainstorm__. What different characteristics does sound have? With the other barons of your house, brainstorm as many properties that describe sound (such as the volume/loudness) as you can think of. Which of these properties might differ between men and aberrants? \n",
    "\n",
    "Don't limit yourself to well-defined physical properties like the volume example. Feel free to include anything that comes to mind, even hard-to-describe properties like \"how much the sound echoes\" or \"how much the volume changes over time.\" Get as many properties as you can."
   ]
  },
  {
   "cell_type": "markdown",
   "metadata": {},
   "source": [
    "__(NOTE TO CF: Break point to a different notebook.)__"
   ]
  },
  {
   "cell_type": "markdown",
   "metadata": {},
   "source": [
    "## The Frequency World\n",
    "\n",
    "Perhaps one of the characterstics of sound you described is the __pitch__ or __frequency__, which describes how fast the numbers representing pressures change from positive to negative and back again.\n",
    "\n",
    "A primitive way to measure pitch is the __zero-crossing rate__ of a sample of sound, which is the number of times that our pressure numbers change sign (from positive to negative or from negative to positive) divided by the total length of the list.\n",
    "\n",
    "For example, the sample\n",
    "\n",
    "    [-5, -3, 1, 2, 4, 1, -1, -5, -7]\n",
    "    \n",
    "Has a low zero-crossing rate -- it changes sign only two times (once from -3 to 1 and again from 1 to -1) and the entire length of the list is 9, so the zero-crossing rate is $\\frac{2}{9} \\approx 0.22$.\n",
    "\n",
    "To compute the zero-crossing rate, you will need to ask the Eldritch tongue to do different things depending on whether a criterion is met, namely whether a number is positive or negative. What do you expect the following cell to output?"
   ]
  },
  {
   "cell_type": "code",
   "execution_count": null,
   "metadata": {
    "collapsed": false
   },
   "outputs": [],
   "source": [
    "x=5\n",
    "\n",
    "if x > 0:\n",
    "    print \"This number is positive.\"\n",
    "    \n",
    "elif x < 0:\n",
    "    print \"This number is negative.\""
   ]
  },
  {
   "cell_type": "markdown",
   "metadata": {},
   "source": [
    "Change the value of `x` in the above cell to something negative and re-run it.\n",
    "\n",
    "These `if-elif` statements are quite powerful, and can be combined with `for` loops that we discussed earlier."
   ]
  },
  {
   "cell_type": "code",
   "execution_count": null,
   "metadata": {
    "collapsed": true
   },
   "outputs": [],
   "source": [
    "example_list = [-5, -3, 1, 2, 4, 1, -1, -5, -7]\n",
    "\n",
    "positive_count = 0\n",
    "negative_count = 0\n",
    "\n",
    "for number in example_list:\n",
    "    if number > 0:\n",
    "        positive_count = positive_count + 1\n",
    "    elif number < 0:\n",
    "        negative_count = negative_count + 1\n",
    "        \n",
    "print \"The example list has\", positive_count, \"positive numbers and\", negative_count, \"negative numbers.\""
   ]
  },
  {
   "cell_type": "markdown",
   "metadata": {},
   "source": [
    "This incantation counts the number of positive and negative values in the example list.\n",
    "\n",
    "__Challenge__. Write an incantation that uses a for loop to compute the __zero-crossing rate__ of the aberrant example (it might start with `for number in aberrant_example:`).\n",
    "\n",
    "The tricky part is deciding if a number has changed signs from the last one. There are several ways to do this."
   ]
  },
  {
   "cell_type": "code",
   "execution_count": null,
   "metadata": {
    "collapsed": true
   },
   "outputs": [],
   "source": []
  },
  {
   "cell_type": "markdown",
   "metadata": {},
   "source": [
    "Re-run your example to find the zero-crossing rates of the two human samples and compare them.\n",
    "\n",
    "__Brainstorm__. CF TODO: Concept question about zero-crossing rate here."
   ]
  },
  {
   "cell_type": "markdown",
   "metadata": {},
   "source": [
    "In the Eldritch tongue, we often want to repeat the same calculation over and over, but starting with different inputs. You saw this above, where you wanted to compute the zero-crossing rate for three separate samples of audio.\n",
    "\n",
    "We can make this easier using __functions__. Earlier, we performed an incantation to add up all of the numbers in a sound list."
   ]
  },
  {
   "cell_type": "code",
   "execution_count": null,
   "metadata": {
    "collapsed": true
   },
   "outputs": [],
   "source": [
    "def add_up(sound_list):\n",
    "    my_sum = 0\n",
    "    \n",
    "    for number in sound_list:\n",
    "        my_sum = my_sum + number\n",
    "        \n",
    "    return my_sum"
   ]
  },
  {
   "cell_type": "markdown",
   "metadata": {},
   "source": [
    "A function begins with `def` followed by the name of the function. Then you put a name for the input of the function inside parentheses, followed by a colon. The indented block below tells the Eldritch tongue what to do with the input. Finally, you use  `return` to tell the function what it should output.\n",
    "\n",
    "Run the cell above to define this function, and then try it out below."
   ]
  },
  {
   "cell_type": "code",
   "execution_count": null,
   "metadata": {
    "collapsed": true
   },
   "outputs": [],
   "source": [
    "print add_up([4, 3, 2])"
   ]
  },
  {
   "cell_type": "markdown",
   "metadata": {},
   "source": [
    "Functions can take any variables as inputs. One way to create a function to compute the signal energy, which you did earlier, is to define __two__ functions: one to square the numbers, and one to add them up and divide by the length."
   ]
  },
  {
   "cell_type": "code",
   "execution_count": null,
   "metadata": {
    "collapsed": true
   },
   "outputs": [],
   "source": [
    "def take_square(number):\n",
    "    return number*number\n",
    "\n",
    "def signal_energy(sound_list):\n",
    "    my_sum = 0\n",
    "    \n",
    "    for number in sound_list:\n",
    "        my_sum = my_sum + take_square(number)\n",
    "        \n",
    "    return my_sum"
   ]
  },
  {
   "cell_type": "markdown",
   "metadata": {},
   "source": [
    "__Challenge__. Convert your earlier code for computing the zero-crossing rate into a function called `zcr`."
   ]
  },
  {
   "cell_type": "code",
   "execution_count": null,
   "metadata": {
    "collapsed": true
   },
   "outputs": [],
   "source": [
    "def zcr(sound_list):\n",
    "    ## Your code goes here"
   ]
  },
  {
   "cell_type": "markdown",
   "metadata": {},
   "source": [
    "The zero-crossing rate is nice, but we would like something which contains more information about pitch. Perhaps some of the characteristics you thought of involved the blending of multiple pitches (such as a musical chord, which combines several frequencies), or about the changing of pitch over time. The zero-crossing rate is blind to these properties.\n",
    "\n",
    "One of the incantations frequently used by those of our house is the ability to visualize sound in the __frequency domain__. This separates a sound into the different pitches that make it up, and shows us how much of each \"ingredient pitch\" the sound has.\n",
    "\n",
    "The following visualization might help you understand."
   ]
  },
  {
   "cell_type": "code",
   "execution_count": null,
   "metadata": {
    "collapsed": false
   },
   "outputs": [],
   "source": [
    "frequency_domain_demo()"
   ]
  },
  {
   "cell_type": "markdown",
   "metadata": {},
   "source": [
    "What do you think, baron? Modify the cell below to give your brief thoughts on what happened in the visualization, then run the cell."
   ]
  },
  {
   "cell_type": "code",
   "execution_count": null,
   "metadata": {
    "collapsed": true
   },
   "outputs": [],
   "source": [
    "my_thoughts = \"\"\"\n",
    "Your one-sentence thoughts about what happened in that visualization go here.\n",
    "\"\"\""
   ]
  },
  {
   "cell_type": "code",
   "execution_count": null,
   "metadata": {
    "collapsed": true
   },
   "outputs": [],
   "source": [
    "%checkpoint"
   ]
  },
  {
   "cell_type": "markdown",
   "metadata": {},
   "source": [
    "You can convert a sample of sound to the frequency domain using the function `frequency_domain`, which is available to all members of House Micaeli. This function takes a sound list as input, and returns __two outputs__: the first output is a list of frequencies, and the second output is a list of _strengths_ corresponding to each of those frequencies. You can assign the two outputs to different variables by separating them with a comma."
   ]
  },
  {
   "cell_type": "code",
   "execution_count": null,
   "metadata": {
    "collapsed": false
   },
   "outputs": [],
   "source": [
    "note = get_concert_A()\n",
    "\n",
    "listen(note)"
   ]
  },
  {
   "cell_type": "code",
   "execution_count": null,
   "metadata": {
    "collapsed": false
   },
   "outputs": [],
   "source": [
    "note_frequencies, note_strengths = frequency_domain(note)\n",
    "\n",
    "plot(note_frequencies, note_strengths)"
   ]
  },
  {
   "cell_type": "markdown",
   "metadata": {
    "collapsed": true
   },
   "source": [
    "Notice that if we give two inputs to the plot function, as we have done above, it automatically puts the first input on the x axis and the second input on the y axis. Therefore, the plot above shows the strength (on the y axis) for each frequency (on the x axis) that make up the note.\n",
    "\n",
    "It seems that this not is __almost entirely__ made up of a single frequency, slightly below 500 oscillations per second.\n",
    "\n",
    "__Challenge__. Try to guess the exact value of the frequency where the peak occurs. You can do this either by looking closely at the graph, by writing a function that looks through `note_strengths` for the biggest number and picks out the corresponding frequency from `note_frequencies`, or perhaps by using your knowledge of this particular note.\n",
    "\n",
    "In the cell below, change `my_guess` so that it equals your guess for the frequency of the peak, then run the cell."
   ]
  },
  {
   "cell_type": "code",
   "execution_count": null,
   "metadata": {
    "collapsed": true
   },
   "outputs": [],
   "source": [
    "## Feel free to put any code here"
   ]
  },
  {
   "cell_type": "code",
   "execution_count": null,
   "metadata": {
    "collapsed": true
   },
   "outputs": [],
   "source": []
  },
  {
   "cell_type": "code",
   "execution_count": null,
   "metadata": {
    "collapsed": true
   },
   "outputs": [],
   "source": [
    "## Or here. When you're done..."
   ]
  },
  {
   "cell_type": "code",
   "execution_count": null,
   "metadata": {
    "collapsed": true
   },
   "outputs": [],
   "source": [
    "my_guess = 500 ## Change this to your guess"
   ]
  },
  {
   "cell_type": "code",
   "execution_count": null,
   "metadata": {
    "collapsed": false
   },
   "outputs": [],
   "source": [
    "%checkpoint ## Run this to save your progress"
   ]
  },
  {
   "cell_type": "markdown",
   "metadata": {},
   "source": [
    "While a note is mostly made up of a single frequency, a chord contains several different frequencies."
   ]
  },
  {
   "cell_type": "code",
   "execution_count": null,
   "metadata": {
    "collapsed": false
   },
   "outputs": [],
   "source": [
    "chord_ex = get_chord_example()\n",
    "\n",
    "listen(chord_ex)"
   ]
  },
  {
   "cell_type": "markdown",
   "metadata": {},
   "source": [
    "__Challenge__. Follow the steps above to plot the frequencies and strengths for the chord. How are they different from the note?"
   ]
  },
  {
   "cell_type": "code",
   "execution_count": null,
   "metadata": {
    "collapsed": true
   },
   "outputs": [],
   "source": []
  },
  {
   "cell_type": "code",
   "execution_count": null,
   "metadata": {
    "collapsed": true
   },
   "outputs": [],
   "source": []
  },
  {
   "cell_type": "code",
   "execution_count": null,
   "metadata": {
    "collapsed": true
   },
   "outputs": [],
   "source": []
  },
  {
   "cell_type": "markdown",
   "metadata": {},
   "source": [
    "__Challenge__. Plot the frequency domain information for the male voice, female voice, and aberrant voice. Analyze and think about the results -- how are they different? Discuss your thoughts with one of the leaders of your House."
   ]
  },
  {
   "cell_type": "code",
   "execution_count": null,
   "metadata": {
    "collapsed": false
   },
   "outputs": [],
   "source": [
    "## CF: This is the answer key, just to sanity check outputs\n",
    "## I'll remove these cells before publishing\n",
    "\n",
    "male_frequencies, male_strengths = frequency_domain(get_male_example())\n",
    "\n",
    "plot(male_frequencies, male_strengths)"
   ]
  },
  {
   "cell_type": "code",
   "execution_count": null,
   "metadata": {
    "collapsed": false
   },
   "outputs": [],
   "source": [
    "female_frequencies, female_strengths = frequency_domain(get_female_example())\n",
    "\n",
    "plot(female_frequencies, female_strengths)"
   ]
  },
  {
   "cell_type": "code",
   "execution_count": null,
   "metadata": {
    "collapsed": false
   },
   "outputs": [],
   "source": [
    "ab_frequencies, ab_strengths = frequency_domain(get_aberrant_example())\n",
    "\n",
    "plot(ab_frequencies, ab_strengths)"
   ]
  },
  {
   "cell_type": "markdown",
   "metadata": {},
   "source": [
    "One problem with analyzing sound in the frequency domain like this is that it loses all information about the __time order__ of events. For example, you studied the frequency domain strengths for a musical chord above, and saw that it had several peaks. However, if we had instead analyzed a sample of sound which had three notes played one after the other, the frequency domain plot would look the same. __This technique can't tell the difference between two pitches played at once, and one pitch followed by another pitch.__\n",
    "\n",
    "Changes in pitch over time seem to be meaningful in human speech. For example, raising the pitch of one's voice toward the end of a sentence indicates a question? Perhaps the time-dependence of pitch in aberrant sounds is likewise important."
   ]
  },
  {
   "cell_type": "markdown",
   "metadata": {},
   "source": [
    "__Brainstorm__. In words, how could we change our approach of converting sound to the frequency domain in order to capture effects that change over time? No need to attempt to write Eldritch speech to carry out your idea; just describing the plan is fine."
   ]
  },
  {
   "cell_type": "markdown",
   "metadata": {},
   "source": [
    "(Note to CF: break between notebooks here.)"
   ]
  },
  {
   "cell_type": "markdown",
   "metadata": {},
   "source": [
    "One way to solve the time order problem is the __spectrogram__. This is a powerful incantation in the Eldritch tongue which breaks a sample of audio into several small pieces and converts each of them to the frequency domain separately. This way, we can see how the strength at each frequency changes over time.\n",
    "\n",
    "You can do this with the function `spectrogram`."
   ]
  },
  {
   "cell_type": "code",
   "execution_count": null,
   "metadata": {
    "collapsed": false
   },
   "outputs": [],
   "source": [
    "scale = get_c_major_scale()\n",
    "\n",
    "listen(scale)"
   ]
  },
  {
   "cell_type": "code",
   "execution_count": null,
   "metadata": {
    "collapsed": false
   },
   "outputs": [],
   "source": [
    "spectrogram(scale)"
   ]
  },
  {
   "cell_type": "markdown",
   "metadata": {},
   "source": [
    "On the x axis is increasing time, and on the y axis is increasing frequency. The color of a region indicates how much strength the same has at the corresponding time and frequency, where red indicates high strength and blue indicates low strength.\n",
    "\n",
    "Now we see that the frequency strength of this sample changes over time! The strongest frequency starts at a lower value (most of the red is low at the left side of the plot), and it gradually drifts toward a higher value later in time (more of the red is concentrated at higher frequencies on the right side of the plot)."
   ]
  },
  {
   "cell_type": "markdown",
   "metadata": {},
   "source": [
    "__Challenge__. Plot the spectrograms for the male, female, and aberrant audio samples above. Can you make any additional observations that were not possible with the original frequency domain plots?"
   ]
  },
  {
   "cell_type": "markdown",
   "metadata": {},
   "source": [
    "The other barons of our House have stumbled upon a terrible secret. By studying the sounds of the aberrants as you have been doing, they have concluded that these creatures __are intelligent__. The guttural roars and shrieks that they produce when attacking are not simply meaningless battle cries, as the other Houses believe. No, their sounds make up a language completely unlike our own, but which contains meaning nonetheless.\n",
    "\n",
    "We aim to decipher the language of the aberrants and learn what these creatures are saying. If we can communicate with the beasts, perhaps some ceasefire can be negotiated; if not, then maybe we can spy on them, translating their language to ours and using the information to gain an edge in battle.\n",
    "\n",
    "Other members of our House are working on isolating individual snippets of aberrant speech and guessing their meaning. But we suspect that predicting the __emotion__ of an aberrant from its speech might be a better starting point. We would like you to design an incantation in the Eldritch tongue which will determine whether a sample of aberrant speech is angry or not."
   ]
  },
  {
   "cell_type": "code",
   "execution_count": null,
   "metadata": {
    "collapsed": false
   },
   "outputs": [],
   "source": [
    "aberrant_one = get_aberrant_example()\n",
    "aberrant_two = get_aberrant_example_two()"
   ]
  },
  {
   "cell_type": "code",
   "execution_count": null,
   "metadata": {
    "collapsed": true
   },
   "outputs": [],
   "source": []
  },
  {
   "cell_type": "code",
   "execution_count": null,
   "metadata": {
    "collapsed": true
   },
   "outputs": [],
   "source": []
  },
  {
   "cell_type": "markdown",
   "metadata": {},
   "source": [
    "The two samples above were recorded by Micaeli field operatives, who used Eldershards to capture the sounds made by a certain type of large aberrant known as a __queen__. One of the sounds was made by a queen who had just noticed the return of one of her underlyings and we believe the sound represents an acknowledgement of his arrival. Another sound was made by a queen who had noticed the presence of our Micaeli operative and prepared to attack -- this sample is classified as \"angry.\"\n",
    "\n",
    "__Challenge__. Listen to both samples and guess which one is the angry queen. Explain how you decided.\n",
    "\n",
    "Try to avoid vague statements like \"this one just sounded angrier,\" if possible. Can you point to some of the specific characteristics of sound that you brainstormed earlier which make the sample seem angry?"
   ]
  },
  {
   "cell_type": "markdown",
   "metadata": {},
   "source": [
    "Perhaps it was easy for you to determine which of the samples was angry using only your ears.\n",
    "\n",
    "But our goal is to devise an incantation which will __automatically__ decide whether a sample of aberrant audio is angry or not. We cannot afford to listen to every sample and decide manually. If instead, we can use the Eldritch tongue to create a function which takes an aberrant sample as input and guesses \"angry\" or \"not angry\" as output, this will be a first step towards automatic translation.\n",
    "\n",
    "Such a function is called a __classifier__. A classifier first takes in a piece of *raw data*, such as a list of numbers representing a sound. It then performs calculations on the raw data to create a set of __features__, which are properties of the raw data which should help in deciding which group the data belongs to. Next, the classifier applies a __decision rule__ to the features, which is a way of picking a group based on the values of the features. Finally, the classifier outputs a __predicted label__, which is the group that the classifier believes the raw data belongs to.\n",
    "\n",
    "Suppose that you think angry aberrant audio has a higher signal energy than non-angry samples. You could create a classifier that performs the following steps:\n",
    "* Take in a piece of raw audio data.\n",
    "* Compute the signal energy of the data (this will be our only feature).\n",
    "* If the signal energy is above $40 \\times 10^6$, guess angry. If it is below this value, guess not angry."
   ]
  },
  {
   "cell_type": "code",
   "execution_count": null,
   "metadata": {
    "collapsed": true
   },
   "outputs": [],
   "source": [
    "def example_classifier(audio):\n",
    "    my_sum = 0\n",
    "    \n",
    "    for number in audio:\n",
    "        my_sum = my_sum + number*number\n",
    "    \n",
    "    signal_audio = my_sum / len(audio)\n",
    "    \n",
    "    if signal_audio > 40e6:\n",
    "        return \"angry\"\n",
    "    \n",
    "    elif signal_audio < 40e6:\n",
    "        return \"not angry\""
   ]
  },
  {
   "cell_type": "markdown",
   "metadata": {},
   "source": [
    "Let's see how this classifier performs on the samples we have so far."
   ]
  },
  {
   "cell_type": "code",
   "execution_count": null,
   "metadata": {
    "collapsed": false
   },
   "outputs": [],
   "source": [
    "print \"Aberrant one: \", example_classifier(aberrant_one)\n",
    "print \"Aberrant two: \", example_classifier(aberrant_two)"
   ]
  },
  {
   "cell_type": "markdown",
   "metadata": {},
   "source": [
    "This is the opposite of what we expected! Evidently this is a rather poor classifier.\n",
    "\n",
    "__Group challenge__. Design a classifier which you think will work for most examples of aberrant audio. It should not only guess the correct labels for `aberrant_one` and `aberrant_two`, but also guess correctly when presented with new raw data that the classifier has not seen before. You may use as many features as you like -- signal energy, zero crossing rate, properties from the frequency domain, or whatever additional features you can come up with.\n",
    "\n",
    "When you are done, your classifier will be scored based on how many new examples of aberrant audio it correctly labels. To help you look for patterns, you can get additional samples of angry and non-angry audio using the cells below."
   ]
  },
  {
   "cell_type": "code",
   "execution_count": null,
   "metadata": {
    "collapsed": true
   },
   "outputs": [],
   "source": [
    "def my_classifier(audio):\n",
    "    ## Your code goes here"
   ]
  },
  {
   "cell_type": "code",
   "execution_count": null,
   "metadata": {
    "collapsed": true
   },
   "outputs": [],
   "source": []
  },
  {
   "cell_type": "code",
   "execution_count": null,
   "metadata": {
    "collapsed": true
   },
   "outputs": [],
   "source": [
    "## Here are some blank cells in case you want to test your classifier or try out ideas for new features"
   ]
  },
  {
   "cell_type": "code",
   "execution_count": null,
   "metadata": {
    "collapsed": true
   },
   "outputs": [],
   "source": []
  },
  {
   "cell_type": "code",
   "execution_count": null,
   "metadata": {
    "collapsed": true
   },
   "outputs": [],
   "source": [
    "## Here are one extra example of angry audio and two extra examples of non-angry audio to help"
   ]
  },
  {
   "cell_type": "code",
   "execution_count": null,
   "metadata": {
    "collapsed": false
   },
   "outputs": [],
   "source": [
    "listen(angry_two)\n",
    "## Add your code to look at the features of angry_two here"
   ]
  },
  {
   "cell_type": "code",
   "execution_count": null,
   "metadata": {
    "collapsed": false
   },
   "outputs": [],
   "source": [
    "listen(nonangry_two)\n",
    "## Add your code to calculate the features of nonangry_two here"
   ]
  },
  {
   "cell_type": "code",
   "execution_count": null,
   "metadata": {
    "collapsed": false
   },
   "outputs": [],
   "source": [
    "listen(nonangry_three)\n",
    "## Add your code to calculate the features of nonangry_three here"
   ]
  },
  {
   "cell_type": "code",
   "execution_count": null,
   "metadata": {
    "collapsed": true
   },
   "outputs": [],
   "source": []
  },
  {
   "cell_type": "code",
   "execution_count": null,
   "metadata": {
    "collapsed": true
   },
   "outputs": [],
   "source": [
    "# Run this once you've defined and tested your classifier\n",
    "%checkpoint"
   ]
  }
 ],
 "metadata": {
  "kernelspec": {
   "display_name": "Python 2",
   "language": "python",
   "name": "python2"
  },
  "language_info": {
   "codemirror_mode": {
    "name": "ipython",
    "version": 2
   },
   "file_extension": ".py",
   "mimetype": "text/x-python",
   "name": "python",
   "nbconvert_exporter": "python",
   "pygments_lexer": "ipython2",
   "version": "2.7.11"
  }
 },
 "nbformat": 4,
 "nbformat_minor": 0
}
