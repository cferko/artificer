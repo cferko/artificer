{
 "cells": [
  {
   "cell_type": "markdown",
   "metadata": {},
   "source": [
    "## We Watch, We Listen, and We Control\n",
    "\n",
    "House Micaeli understands the value of knowledge, and we use our magically-enhanced powers of perception to notice secrets that no normal man could. We have acted as detectives, inquisitors, and spy catchers, amassing power through observation.\n",
    "\n",
    "In most cases, this has been observation of other people. A Micaeli's sharp senses can easily detect when a person is lying or pick up on a whispered conversation in a crowded marketplace. We can do this thanks to the eldritch tongue, which can be used to modify sound."
   ]
  },
  {
   "cell_type": "code",
   "execution_count": null,
   "metadata": {
    "collapsed": true
   },
   "outputs": [],
   "source": [
    "human_sample_one = get_first_example()\n",
    "human_sample_two = get_second_example()"
   ]
  },
  {
   "cell_type": "code",
   "execution_count": null,
   "metadata": {
    "collapsed": true
   },
   "outputs": [],
   "source": [
    "listen(human_sample_one)"
   ]
  },
  {
   "cell_type": "markdown",
   "metadata": {},
   "source": [
    "(You can change the above cell and re-run it to listen to the second sample.)\n",
    "\n",
    "Micaelis can manipulate sound by representing it as a list of numbers -- indeed, sound itself is a series of pressure changes that propagates through the air. If we record a \"pushing\" pressure with a positive number and a \"pulling\" pressure with a negative number, then such a list can completely capture what your ear feels when someone speaks to you."
   ]
  },
  {
   "cell_type": "code",
   "execution_count": null,
   "metadata": {
    "collapsed": true
   },
   "outputs": [],
   "source": [
    "print human_sample_one"
   ]
  },
  {
   "cell_type": "markdown",
   "metadata": {},
   "source": [
    "But looking at such a set of numbers is of little use to us. We wish to use this data to learn something about the speaker, and use this for our own purposes. To start, a Micaeli can easily see the sound by plotting the sizes of the numbers in this list."
   ]
  },
  {
   "cell_type": "code",
   "execution_count": null,
   "metadata": {
    "collapsed": true
   },
   "outputs": [],
   "source": [
    "plot(human_sample_one)"
   ]
  },
  {
   "cell_type": "markdown",
   "metadata": {},
   "source": [
    "At least we can see which part of the sample is the loudest (has the highest pressure), but we can do better.\n",
    "\n",
    "You will rightfully be impatient. Our House struggles for its very existence against the vicious aberrant invaders, while power over the City of Towers will soon change hands -- hopefully to ours.\n",
    "\n",
    "The other barons of Micaeli have proposed a plan, and we seek your approval. Just as our House has come to power through investigating other people, learning their secrets, and using this as power, __what if we can prevail over the monstrous aberrants by observing them__? We must know our enemy, and if we can understand how these creatures communicate as well as we understand the speech of men, we will have the upper hand."
   ]
  },
  {
   "cell_type": "code",
   "execution_count": null,
   "metadata": {
    "collapsed": true
   },
   "outputs": [],
   "source": [
    "aberrant_example = get_aberrant_example()\n",
    "\n",
    "## Wrap a function here to plot all three vertically with shared x"
   ]
  },
  {
   "cell_type": "markdown",
   "metadata": {},
   "source": [
    "__Challenge__. Use the listen function to observe the aberrant sound."
   ]
  },
  {
   "cell_type": "code",
   "execution_count": null,
   "metadata": {
    "collapsed": true
   },
   "outputs": [],
   "source": []
  },
  {
   "cell_type": "markdown",
   "metadata": {},
   "source": [
    "This will be a challenge even for us. These creatures sound so different from humans!"
   ]
  },
  {
   "cell_type": "markdown",
   "metadata": {},
   "source": [
    "__Brainstorm__. With the other barons of your house, brainstorm as many characteristics of sound as you can think of. What properties does sound have which might differ between men and aberrants? Feel free to include physical properties, descriptions, or whatever else comes to mind."
   ]
  },
  {
   "cell_type": "markdown",
   "metadata": {},
   "source": []
  }
 ],
 "metadata": {
  "kernelspec": {
   "display_name": "Python 2",
   "language": "python",
   "name": "python2"
  },
  "language_info": {
   "codemirror_mode": {
    "name": "ipython",
    "version": 2
   },
   "file_extension": ".py",
   "mimetype": "text/x-python",
   "name": "python",
   "nbconvert_exporter": "python",
   "pygments_lexer": "ipython2",
   "version": "2.7.11"
  }
 },
 "nbformat": 4,
 "nbformat_minor": 0
}
