{
 "cells": [
  {
   "cell_type": "markdown",
   "metadata": {},
   "source": [
    "This is the rough draft for the Donric quest.\n",
    "\n",
    "House Donric consists of soldiers and bodyguards, and as such their quest will focus on fighting the aberrant invaders directly. As creation of intelligent forglings has been forbidden, House Donric relies on non-sentient constructs such as golems/eidolons and turrets. As such, much of this quest will allow us to explore AI, policy design, control, optimization, and reinforcement learning.\n",
    "\n",
    "The combat system will be based on d20; the skeleton is implemented in code/simple_battle.py. Some ideas for tasks:\n",
    "\n",
    "* Simulate battles between armies of fixed size. Determine probabilities of victory and use this to inform choices of whether or not to enter battles.\n",
    "* Run princess and the monster, motivated by the flavortext of a sentry attacking an aberrant which sprays toxic gas. Compare strategies of random walk, sitting still, or something else, and see what does best.\n",
    "* Choose between possible troop upgrades based on simulated performance.\n",
    "* Given a cost for adding units, design the army which maximizes probability of victory, minimizes cost, and has a tertiary objective function related to some environmental factor. This affects another house.\n",
    "* If possible, introduce reinforcement learning to train a particular strategy, say when a unit should use a special attack.\n",
    "\n",
    "This needs more careful fleshing out."
   ]
  }
 ],
 "metadata": {
  "kernelspec": {
   "display_name": "Python 2",
   "language": "python",
   "name": "python2"
  },
  "language_info": {
   "codemirror_mode": {
    "name": "ipython",
    "version": 2
   },
   "file_extension": ".py",
   "mimetype": "text/x-python",
   "name": "python",
   "nbconvert_exporter": "python",
   "pygments_lexer": "ipython2",
   "version": "2.7.11"
  }
 },
 "nbformat": 4,
 "nbformat_minor": 0
}
