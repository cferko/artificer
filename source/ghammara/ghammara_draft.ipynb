{
 "cells": [
  {
   "cell_type": "markdown",
   "metadata": {},
   "source": [
    "Ghammara controls the inns and operates enclaves which are legally autonomous, so they can offer sanctuary.\n",
    "\n",
    "Ghammara sympathizes strongly with Khalashi and their plan to escape the invaders is to migrate to Kal Dorn, the dream world. To do this, they have created a way to record people's dreams and want to use this to find clues about how to enter the dream world permanently.\n",
    "\n",
    "To process all of the dream data, they will need to write some image processing, machine vision, and computer vision routines.\n",
    "\n",
    "The tasks might involve edge detection, pattern recognition, image segmentation, perhaps face recognition. As of now I think I'll mostly focus on scikit-image (http://scikit-image.org/docs/dev/auto_examples/) but SimpleCV (simplecv.org) and OpenCV (http://opencv.org/) also look good.\n",
    "\n",
    "This guy has some notebooks that could be useful: https://github.com/larsyencken/simplecv-demo"
   ]
  }
 ],
 "metadata": {
  "kernelspec": {
   "display_name": "Python 2",
   "language": "python",
   "name": "python2"
  },
  "language_info": {
   "codemirror_mode": {
    "name": "ipython",
    "version": 2
   },
   "file_extension": ".py",
   "mimetype": "text/x-python",
   "name": "python",
   "nbconvert_exporter": "python",
   "pygments_lexer": "ipython2",
   "version": "2.7.11"
  }
 },
 "nbformat": 4,
 "nbformat_minor": 0
}
