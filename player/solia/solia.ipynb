{
 "cells": [
  {
   "cell_type": "markdown",
   "metadata": {},
   "source": [
    "# Solia d'Oriete\n",
    "\n",
    "This is a skeleton placeholder for a character sheet. The character's description and backstory will go here.\n",
    "\n",
    "Specializations, personality details for role-playing, and code snippets will be added below."
   ]
  },
  {
   "cell_type": "markdown",
   "metadata": {
    "collapsed": true
   },
   "source": [
    "This is where the explanation of the first task will go. As a standin, set the variable test equal to 5."
   ]
  },
  {
   "cell_type": "code",
   "execution_count": 1,
   "metadata": {
    "collapsed": true
   },
   "outputs": [],
   "source": [
    "test=5"
   ]
  },
  {
   "cell_type": "code",
   "execution_count": null,
   "metadata": {
    "collapsed": true
   },
   "outputs": [],
   "source": []
  },
  {
   "cell_type": "markdown",
   "metadata": {},
   "source": [
    "This is where the explanation of the first task will go. As a standin, set the variable derp equal to 5."
   ]
  },
  {
   "cell_type": "code",
   "execution_count": null,
   "metadata": {
    "collapsed": true
   },
   "outputs": [],
   "source": []
  },
  {
   "cell_type": "markdown",
   "metadata": {},
   "source": [
    "This is where the explanation of the first task will go. As a standin, set the variable herp equal to 5."
   ]
  },
  {
   "cell_type": "code",
   "execution_count": 2,
   "metadata": {
    "collapsed": false
   },
   "outputs": [
    {
     "name": "stderr",
     "output_type": "stream",
     "text": [
      "ERROR: Line magic function `%checkpoint` not found.\n"
     ]
    }
   ],
   "source": [
    "%checkpoint"
   ]
  },
  {
   "cell_type": "code",
   "execution_count": null,
   "metadata": {
    "collapsed": true
   },
   "outputs": [],
   "source": []
  },
  {
   "cell_type": "code",
   "execution_count": 102,
   "metadata": {
    "collapsed": false
   },
   "outputs": [],
   "source": [
    "from IPython.core.display import HTML\n",
    "from IPython.core.display import display\n",
    "\n",
    "def handle_transition(current_state):\n",
    "    global ip\n",
    "    ip = get_ipython()\n",
    "    \n",
    "    my_display = \"\"\"End of Mission\n",
    "\n",
    "    This is a markdown cell with a summary of your performance.\n",
    "\n",
    "    <a href = \"next_level.ipynb\" target=\"_blank\">Click here</a> for your next mission.\"\"\"\n",
    "\n",
    "    display(HTML(my_display))\n",
    "    \n",
    "    return True\n"
   ]
  },
  {
   "cell_type": "code",
   "execution_count": 104,
   "metadata": {
    "collapsed": false
   },
   "outputs": [
    {
     "data": {
      "text/html": [
       "End of Mission\n",
       "\n",
       "    This is a markdown cell with a summary of your performance.\n",
       "\n",
       "    <a href = \"next_level.ipynb\" target=\"_blank\">Click here</a> for your next mission."
      ],
      "text/plain": [
       "<IPython.core.display.HTML object>"
      ]
     },
     "metadata": {},
     "output_type": "display_data"
    },
    {
     "data": {
      "text/plain": [
       "True"
      ]
     },
     "execution_count": 104,
     "metadata": {},
     "output_type": "execute_result"
    }
   ],
   "source": [
    "handle_transition(current_state)"
   ]
  },
  {
   "cell_type": "code",
   "execution_count": null,
   "metadata": {
    "collapsed": true
   },
   "outputs": [],
   "source": []
  },
  {
   "cell_type": "code",
   "execution_count": null,
   "metadata": {
    "collapsed": true
   },
   "outputs": [],
   "source": []
  },
  {
   "cell_type": "code",
   "execution_count": null,
   "metadata": {
    "collapsed": true
   },
   "outputs": [],
   "source": []
  },
  {
   "cell_type": "code",
   "execution_count": null,
   "metadata": {
    "collapsed": true
   },
   "outputs": [],
   "source": []
  },
  {
   "cell_type": "code",
   "execution_count": null,
   "metadata": {
    "collapsed": true
   },
   "outputs": [],
   "source": []
  },
  {
   "cell_type": "code",
   "execution_count": null,
   "metadata": {
    "collapsed": true
   },
   "outputs": [],
   "source": []
  },
  {
   "cell_type": "code",
   "execution_count": null,
   "metadata": {
    "collapsed": true
   },
   "outputs": [],
   "source": []
  },
  {
   "cell_type": "code",
   "execution_count": null,
   "metadata": {
    "collapsed": true
   },
   "outputs": [],
   "source": []
  },
  {
   "cell_type": "code",
   "execution_count": null,
   "metadata": {
    "collapsed": true
   },
   "outputs": [],
   "source": []
  },
  {
   "cell_type": "code",
   "execution_count": null,
   "metadata": {
    "collapsed": true
   },
   "outputs": [],
   "source": []
  },
  {
   "cell_type": "code",
   "execution_count": null,
   "metadata": {
    "collapsed": true
   },
   "outputs": [],
   "source": []
  },
  {
   "cell_type": "code",
   "execution_count": 47,
   "metadata": {
    "collapsed": true
   },
   "outputs": [],
   "source": [
    "from IPython.core.display import display_markdown\n",
    "def handle_transition(current_state):\n",
    "    if len(current_state[\"completed\"])<3:\n",
    "        return None\n",
    "    else:\n",
    "        shutil.copy(\"../../source/cadon/cadon_draft.ipynb\", \n",
    "                    \"./next_level.ipynb\")\n",
    "\n",
    "        my_display = \"\"\"# End of Mission\n",
    "        \n",
    "        This is a markdown cell with a summary of your performance.\n",
    "        \n",
    "        [Click here](next_level.ipynb.ipynb) for your next mission.\"\"\"\n",
    "        \n",
    "        get_ipython().set_next_input(display_markdown(my_display, raw=True))\n",
    "        \n",
    "        return True"
   ]
  },
  {
   "cell_type": "code",
   "execution_count": 53,
   "metadata": {
    "collapsed": true
   },
   "outputs": [],
   "source": [
    "@magics_class\n",
    "class MyMagics(Magics):\n",
    "\n",
    "    @line_magic\n",
    "    def checkpoint(self, line):\n",
    "        \"\"\"Cell magic to score progress and update state\n",
    "        \"\"\"\n",
    "        current_state = pickle.load(open(\"state.p\", \"rb\"))\n",
    "        namespace_variables = self.shell.user_ns.keys()\n",
    "        \n",
    "        current_state = update_state(current_state, namespace_variables)\n",
    "\n",
    "        pickle.dump(current_state, open(\"state.p\", \"wb\"))\n",
    "        return\n",
    "\n",
    "ip = get_ipython()\n",
    "ip.register_magics(MyMagics)"
   ]
  },
  {
   "cell_type": "code",
   "execution_count": null,
   "metadata": {
    "collapsed": true
   },
   "outputs": [],
   "source": []
  }
 ],
 "metadata": {
  "kernelspec": {
   "display_name": "Python 2",
   "language": "python",
   "name": "python2"
  },
  "language_info": {
   "codemirror_mode": {
    "name": "ipython",
    "version": 2
   },
   "file_extension": ".py",
   "mimetype": "text/x-python",
   "name": "python",
   "nbconvert_exporter": "python",
   "pygments_lexer": "ipython2",
   "version": "2.7.11"
  }
 },
 "nbformat": 4,
 "nbformat_minor": 0
}
